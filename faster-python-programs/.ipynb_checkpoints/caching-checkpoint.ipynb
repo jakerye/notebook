{
 "cells": [
  {
   "cell_type": "code",
   "execution_count": 1,
   "metadata": {},
   "outputs": [
    {
     "name": "stdout",
     "output_type": "stream",
     "text": [
      "/home/jake/projects/notebook/faster-python-programs/source/optimizing/caching\n"
     ]
    }
   ],
   "source": [
    "cd source/optimizing/caching/"
   ]
  },
  {
   "cell_type": "code",
   "execution_count": 2,
   "metadata": {},
   "outputs": [
    {
     "name": "stdout",
     "output_type": "stream",
     "text": [
      "cache_deterministic.py  cache_non_deterministic.py  get_key.py\r\n"
     ]
    }
   ],
   "source": [
    "ls"
   ]
  },
  {
   "cell_type": "code",
   "execution_count": 6,
   "metadata": {},
   "outputs": [],
   "source": [
    "# %load cache_deterministic.py\n",
    "# file: cache_deterministic.py\n",
    "# form Ziade 2008\n",
    "\n",
    "\"\"\"Example for a deterministic cache\n",
    "\"\"\"\n",
    "\n",
    "import functools\n",
    "\n",
    "\n",
    "from get_key import get_key                                     #1\n",
    "\n",
    "cache = {}                                                      #2\n",
    "\n",
    "\n",
    "def memoize_deterministic(get_key=get_key, cache=cache):         #3\n",
    "    \"\"\"Parameterized decorator for memoizing.\n",
    "    \"\"\"\n",
    "\n",
    "    def _memoize(function):                                     #4\n",
    "        \"\"\"This takes the function.\n",
    "        \"\"\"\n",
    "\n",
    "        @functools.wraps(function)\n",
    "        def __memoize(*args, **kw):                             #5\n",
    "            \"\"\"This replaces the original function.\n",
    "            \"\"\"\n",
    "            key = get_key(function, *args, **kw)                #6\n",
    "            try:\n",
    "                return cache[key]                               #7\n",
    "            except KeyError:\n",
    "                value = function(*args, **kw)                   #8\n",
    "                cache[key] = value                              #9\n",
    "                return value                                    #10\n",
    "        return __memoize\n",
    "    return _memoize\n"
   ]
  },
  {
   "cell_type": "code",
   "execution_count": 5,
   "metadata": {},
   "outputs": [],
   "source": [
    "# %load get_key.py\n",
    "# file: get_key.py\n",
    "# based on Ziade 2008\n",
    "\n",
    "\"\"\"Generate a unique key for a function and its arguments.\n",
    "\"\"\"\n",
    "\n",
    "\n",
    "def get_key(function, *args, **kw):                             #1\n",
    "    \"\"\"Make key from module and function names as well as arguments.\n",
    "    \"\"\"\n",
    "    key = '%s.%s:' % (function.__module__,\n",
    "                      function.__name__)                        #2\n",
    "    hash_args = [str(arg) for arg in args]                      #3\n",
    "    hash_kw = ['%s:%s' % (k, str(v))\n",
    "               for k, v in kw.items()]                          #4\n",
    "    return '%s::%s::%s' % (key, hash_args, hash_kw)             #5\n"
   ]
  },
  {
   "cell_type": "code",
   "execution_count": 7,
   "metadata": {},
   "outputs": [],
   "source": [
    "@memoize_deterministic()\n",
    "def add(a,b):\n",
    "    print('adding')\n",
    "    return a + b"
   ]
  },
  {
   "cell_type": "code",
   "execution_count": 8,
   "metadata": {},
   "outputs": [
    {
     "name": "stdout",
     "output_type": "stream",
     "text": [
      "adding\n"
     ]
    },
    {
     "data": {
      "text/plain": [
       "5"
      ]
     },
     "execution_count": 8,
     "metadata": {},
     "output_type": "execute_result"
    }
   ],
   "source": [
    "add(2, 3)"
   ]
  },
  {
   "cell_type": "code",
   "execution_count": 9,
   "metadata": {},
   "outputs": [
    {
     "name": "stdout",
     "output_type": "stream",
     "text": [
      "adding\n"
     ]
    },
    {
     "data": {
      "text/plain": [
       "5"
      ]
     },
     "execution_count": 9,
     "metadata": {},
     "output_type": "execute_result"
    }
   ],
   "source": [
    "add(2, b=3)"
   ]
  },
  {
   "cell_type": "code",
   "execution_count": null,
   "metadata": {},
   "outputs": [],
   "source": [
    "# %load cache_non_deterministic.py\n",
    "# file: cache_non_deterministic.py\n",
    "# form Ziade 2008\n",
    "\n",
    "\"\"\"Example for a cache that expires.\n",
    "\"\"\"\n",
    "\n",
    "import functools\n",
    "import time\n",
    "\n",
    "from get_key import get_key\n",
    "\n",
    "cache = {}\n",
    "\n",
    "def memoize_non_deterministic(get_key=get_key, storage=cache,\n",
    "                             age=0):                            #1\n",
    "    \"\"\"Parameterized decorator that takes an expiration age.\n",
    "    \"\"\"\n",
    "    \n",
    "    def _memoize(function):\n",
    "        \"\"\"This takes the function.\n",
    "        \"\"\"\n",
    "\n",
    "        @functools.wraps(function)\n",
    "        def __memoize(*args, **kw):\n",
    "            \"\"\"This replaces the original function.\n",
    "            \"\"\"\n",
    "            key = get_key(function, *args, **kw)\n",
    "            try:\n",
    "                value_age, value = storage[key]                 #2\n",
    "                deprecated = (age != 0 and \n",
    "                             (value_age + age) < time.time())   #3\n",
    "            except KeyError:\n",
    "                deprecated = True                               #4\n",
    "            if not deprecated:\n",
    "                return value                                    #5\n",
    "            storage[key] = time.time(), function(*args, **kw)   #6\n",
    "            return storage[key][1]                              #7\n",
    "        return __memoize\n",
    "    return _memoize\n"
   ]
  },
  {
   "cell_type": "code",
   "execution_count": 11,
   "metadata": {},
   "outputs": [],
   "source": [
    "from functools import lru_cache"
   ]
  },
  {
   "cell_type": "code",
   "execution_count": 13,
   "metadata": {},
   "outputs": [],
   "source": [
    "lru_cache?"
   ]
  },
  {
   "cell_type": "raw",
   "metadata": {},
   "source": []
  },
  {
   "cell_type": "code",
   "execution_count": 15,
   "metadata": {},
   "outputs": [],
   "source": [
    "@lru_cache(maxsize=3)\n",
    "def add(a,b):\n",
    "    print('adding')\n",
    "    return a + b"
   ]
  },
  {
   "cell_type": "code",
   "execution_count": 16,
   "metadata": {},
   "outputs": [
    {
     "name": "stdout",
     "output_type": "stream",
     "text": [
      "adding\n"
     ]
    },
    {
     "data": {
      "text/plain": [
       "5"
      ]
     },
     "execution_count": 16,
     "metadata": {},
     "output_type": "execute_result"
    }
   ],
   "source": [
    "add(2,3)"
   ]
  },
  {
   "cell_type": "code",
   "execution_count": 17,
   "metadata": {},
   "outputs": [
    {
     "data": {
      "text/plain": [
       "CacheInfo(hits=0, misses=1, maxsize=3, currsize=1)"
      ]
     },
     "execution_count": 17,
     "metadata": {},
     "output_type": "execute_result"
    }
   ],
   "source": [
    "add.cache_info()"
   ]
  },
  {
   "cell_type": "code",
   "execution_count": 18,
   "metadata": {},
   "outputs": [
    {
     "data": {
      "text/plain": [
       "5"
      ]
     },
     "execution_count": 18,
     "metadata": {},
     "output_type": "execute_result"
    }
   ],
   "source": [
    "add(2,3)"
   ]
  },
  {
   "cell_type": "code",
   "execution_count": 19,
   "metadata": {},
   "outputs": [
    {
     "data": {
      "text/plain": [
       "CacheInfo(hits=1, misses=1, maxsize=3, currsize=1)"
      ]
     },
     "execution_count": 19,
     "metadata": {},
     "output_type": "execute_result"
    }
   ],
   "source": [
    "add.cache_info()"
   ]
  },
  {
   "cell_type": "code",
   "execution_count": null,
   "metadata": {},
   "outputs": [],
   "source": []
  }
 ],
 "metadata": {
  "kernelspec": {
   "display_name": "Python 3",
   "language": "python",
   "name": "python3"
  },
  "language_info": {
   "codemirror_mode": {
    "name": "ipython",
    "version": 3
   },
   "file_extension": ".py",
   "mimetype": "text/x-python",
   "name": "python",
   "nbconvert_exporter": "python",
   "pygments_lexer": "ipython3",
   "version": "3.6.5"
  }
 },
 "nbformat": 4,
 "nbformat_minor": 2
}
