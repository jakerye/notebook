{
 "cells": [
  {
   "cell_type": "code",
   "execution_count": 2,
   "metadata": {},
   "outputs": [
    {
     "name": "stdout",
     "output_type": "stream",
     "text": [
      "[Errno 2] No such file or directory: 'source/'\n",
      "/home/jake/projects/notebook/faster-python-programs/source\n"
     ]
    }
   ],
   "source": [
    "cd source/"
   ]
  },
  {
   "cell_type": "code",
   "execution_count": 4,
   "metadata": {},
   "outputs": [
    {
     "name": "stdout",
     "output_type": "stream",
     "text": [
      "\u001b[0m\u001b[01;34moptimizing\u001b[0m/\r\n"
     ]
    }
   ],
   "source": [
    "ls"
   ]
  },
  {
   "cell_type": "code",
   "execution_count": 5,
   "metadata": {},
   "outputs": [
    {
     "name": "stdout",
     "output_type": "stream",
     "text": [
      "/home/jake/projects/notebook/faster-python-programs/source/optimizing\n"
     ]
    }
   ],
   "source": [
    "cd optimizing/"
   ]
  },
  {
   "cell_type": "code",
   "execution_count": 6,
   "metadata": {},
   "outputs": [
    {
     "name": "stdout",
     "output_type": "stream",
     "text": [
      "\u001b[0m\u001b[01;34malgorithms\u001b[0m/  \u001b[01;34mcaching\u001b[0m/  \u001b[01;34mdatastructure\u001b[0m/  \u001b[01;34mmeasuring\u001b[0m/  \u001b[01;34mpi\u001b[0m/\r\n"
     ]
    }
   ],
   "source": [
    "ls\n"
   ]
  },
  {
   "cell_type": "code",
   "execution_count": 7,
   "metadata": {},
   "outputs": [
    {
     "name": "stdout",
     "output_type": "stream",
     "text": [
      "/home/jake/projects/notebook/faster-python-programs/source/optimizing/measuring\n"
     ]
    }
   ],
   "source": [
    "cd measuring/"
   ]
  },
  {
   "cell_type": "markdown",
   "metadata": {},
   "source": [
    "# Timing"
   ]
  },
  {
   "cell_type": "code",
   "execution_count": 9,
   "metadata": {},
   "outputs": [],
   "source": [
    "import timeit"
   ]
  },
  {
   "cell_type": "code",
   "execution_count": 10,
   "metadata": {},
   "outputs": [],
   "source": [
    "a = 1\n",
    "b = 2"
   ]
  },
  {
   "cell_type": "code",
   "execution_count": 11,
   "metadata": {},
   "outputs": [
    {
     "data": {
      "text/plain": [
       "0.05618993297684938"
      ]
     },
     "execution_count": 11,
     "metadata": {},
     "output_type": "execute_result"
    }
   ],
   "source": [
    "timeit.timeit('a + b', globals=locals())"
   ]
  },
  {
   "cell_type": "code",
   "execution_count": 12,
   "metadata": {},
   "outputs": [
    {
     "data": {
      "text/plain": [
       "True"
      ]
     },
     "execution_count": 12,
     "metadata": {},
     "output_type": "execute_result"
    }
   ],
   "source": [
    "'a' in locals()"
   ]
  },
  {
   "cell_type": "code",
   "execution_count": 21,
   "metadata": {},
   "outputs": [
    {
     "name": "stdout",
     "output_type": "stream",
     "text": [
      "32.6 ns ± 0.328 ns per loop (mean ± std. dev. of 7 runs, 10000000 loops each)\n"
     ]
    }
   ],
   "source": [
    "%timeit a + b"
   ]
  },
  {
   "cell_type": "code",
   "execution_count": 16,
   "metadata": {},
   "outputs": [],
   "source": [
    "%timeit?"
   ]
  },
  {
   "cell_type": "code",
   "execution_count": 18,
   "metadata": {},
   "outputs": [],
   "source": [
    "res = %timeit -o -q a + b"
   ]
  },
  {
   "cell_type": "code",
   "execution_count": 19,
   "metadata": {},
   "outputs": [
    {
     "data": {
      "text/plain": [
       "3.3381965985920813e-08"
      ]
     },
     "execution_count": 19,
     "metadata": {},
     "output_type": "execute_result"
    }
   ],
   "source": [
    "res.average"
   ]
  },
  {
   "cell_type": "code",
   "execution_count": 22,
   "metadata": {},
   "outputs": [
    {
     "data": {
      "text/plain": [
       "[3.250189590035006e-08,\n",
       " 3.34199784003431e-08,\n",
       " 3.277467220032122e-08,\n",
       " 3.355603810050525e-08,\n",
       " 3.450946579978336e-08,\n",
       " 3.334274259977974e-08,\n",
       " 3.356896890036296e-08]"
      ]
     },
     "execution_count": 22,
     "metadata": {},
     "output_type": "execute_result"
    }
   ],
   "source": [
    "res.timings"
   ]
  },
  {
   "cell_type": "code",
   "execution_count": 23,
   "metadata": {},
   "outputs": [
    {
     "data": {
      "text/plain": [
       "5.955597051226928e-10"
      ]
     },
     "execution_count": 23,
     "metadata": {},
     "output_type": "execute_result"
    }
   ],
   "source": [
    "res.stdev"
   ]
  },
  {
   "cell_type": "code",
   "execution_count": 24,
   "metadata": {},
   "outputs": [
    {
     "data": {
      "text/plain": [
       "3.250189590035006e-08"
      ]
     },
     "execution_count": 24,
     "metadata": {},
     "output_type": "execute_result"
    }
   ],
   "source": [
    "res.best"
   ]
  },
  {
   "cell_type": "markdown",
   "metadata": {},
   "source": [
    "# Profiling CPU"
   ]
  },
  {
   "cell_type": "code",
   "execution_count": 26,
   "metadata": {},
   "outputs": [
    {
     "name": "stdout",
     "output_type": "stream",
     "text": [
      "accumulate.py        make_list_gen.py                 profile_speed.py\r\n",
      "calc.py              memory_growth_hpy.py             pympler_list_growth.py\r\n",
      "clock_check.py       memory_growth_pympler.py         pystone2_3.py\r\n",
      "cpu_time.py          memory_size_hpy.py               pystone2.py\r\n",
      "create_list.py       memory_size_pympler.py           pystone3.py\r\n",
      "list_alloc_steps.py  profile_me.py                    pystone_converter.py\r\n",
      "local_ref.py         profile_me_use_line_profiler.py  use_mem.py\r\n"
     ]
    }
   ],
   "source": [
    "ls"
   ]
  },
  {
   "cell_type": "code",
   "execution_count": 31,
   "metadata": {},
   "outputs": [],
   "source": [
    "# %load profile_me.py\n",
    "# file profile_me.py\n",
    "\n",
    "\"\"\"Example to be profiled.\n",
    "\"\"\"\n",
    "import sys\n",
    "import time\n",
    "\n",
    "if sys.version_info.major < 3:\n",
    "    range = xrange\n",
    "\n",
    "\n",
    "def fast():\n",
    "    \"\"\"Wait 0.001 seconds.\n",
    "    \"\"\"\n",
    "    time.sleep(1e-3)\n",
    "\n",
    "\n",
    "def slow():\n",
    "    \"\"\"Wait 0.1 seconds.\n",
    "    \"\"\"\n",
    "    time.sleep(0.1)\n",
    "\n",
    "\n",
    "def use_fast():\n",
    "    \"\"\"Call `fast` 100 times.\n",
    "    \"\"\"\n",
    "    for _ in range(100):\n",
    "        fast()\n",
    "\n",
    "\n",
    "def use_slow():\n",
    "    \"\"\"Call `slow` 100 times.\n",
    "    \"\"\"\n",
    "    for _ in range(100):\n",
    "        slow()\n",
    "\n",
    "\n",
    "if __name__ == '__main__':\n",
    "    use_fast()\n",
    "    use_slow()\n"
   ]
  },
  {
   "cell_type": "code",
   "execution_count": 32,
   "metadata": {},
   "outputs": [],
   "source": [
    "import cProfile"
   ]
  },
  {
   "cell_type": "code",
   "execution_count": 33,
   "metadata": {},
   "outputs": [],
   "source": [
    "profiler = cProfile.Profile()"
   ]
  },
  {
   "cell_type": "code",
   "execution_count": 34,
   "metadata": {},
   "outputs": [],
   "source": [
    "profiler.runcall(use_fast)"
   ]
  },
  {
   "cell_type": "code",
   "execution_count": 35,
   "metadata": {},
   "outputs": [
    {
     "name": "stdout",
     "output_type": "stream",
     "text": [
      "         202 function calls in 0.116 seconds\n",
      "\n",
      "   Ordered by: standard name\n",
      "\n",
      "   ncalls  tottime  percall  cumtime  percall filename:lineno(function)\n",
      "      100    0.000    0.000    0.115    0.001 <ipython-input-31-c1d172179a0c>:13(fast)\n",
      "        1    0.000    0.000    0.116    0.116 <ipython-input-31-c1d172179a0c>:25(use_fast)\n",
      "      100    0.115    0.001    0.115    0.001 {built-in method time.sleep}\n",
      "        1    0.000    0.000    0.000    0.000 {method 'disable' of '_lsprof.Profiler' objects}\n",
      "\n",
      "\n"
     ]
    }
   ],
   "source": [
    "profiler.print_stats()"
   ]
  },
  {
   "cell_type": "code",
   "execution_count": 44,
   "metadata": {},
   "outputs": [],
   "source": [
    "profiler2 = cProfile.Profile()"
   ]
  },
  {
   "cell_type": "code",
   "execution_count": 45,
   "metadata": {},
   "outputs": [],
   "source": [
    "profiler2.runcall(use_slow)"
   ]
  },
  {
   "cell_type": "code",
   "execution_count": 46,
   "metadata": {},
   "outputs": [
    {
     "name": "stdout",
     "output_type": "stream",
     "text": [
      "         202 function calls in 10.026 seconds\n",
      "\n",
      "   Ordered by: standard name\n",
      "\n",
      "   ncalls  tottime  percall  cumtime  percall filename:lineno(function)\n",
      "      100    0.001    0.000   10.025    0.100 <ipython-input-31-c1d172179a0c>:19(slow)\n",
      "        1    0.001    0.001   10.026   10.026 <ipython-input-31-c1d172179a0c>:32(use_slow)\n",
      "      100   10.024    0.100   10.024    0.100 {built-in method time.sleep}\n",
      "        1    0.000    0.000    0.000    0.000 {method 'disable' of '_lsprof.Profiler' objects}\n",
      "\n",
      "\n"
     ]
    }
   ],
   "source": [
    "profiler2.print_stats()"
   ]
  },
  {
   "cell_type": "code",
   "execution_count": 47,
   "metadata": {},
   "outputs": [],
   "source": [
    "cProfile.run('use_fast()', 'fast.stats')"
   ]
  },
  {
   "cell_type": "code",
   "execution_count": 48,
   "metadata": {},
   "outputs": [
    {
     "name": "stdout",
     "output_type": "stream",
     "text": [
      "accumulate.py        make_list_gen.py                 pympler_list_growth.py\r\n",
      "calc.py              memory_growth_hpy.py             pystone2_3.py\r\n",
      "clock_check.py       memory_growth_pympler.py         pystone2.py\r\n",
      "cpu_time.py          memory_size_hpy.py               pystone3.py\r\n",
      "create_list.py       memory_size_pympler.py           pystone_converter.py\r\n",
      "fast.stats           profile_me.py                    use_mem.py\r\n",
      "list_alloc_steps.py  profile_me_use_line_profiler.py\r\n",
      "local_ref.py         profile_speed.py\r\n"
     ]
    }
   ],
   "source": [
    "ls"
   ]
  },
  {
   "cell_type": "code",
   "execution_count": 49,
   "metadata": {},
   "outputs": [
    {
     "name": "stdout",
     "output_type": "stream",
     "text": [
      "fast.stats\r\n"
     ]
    }
   ],
   "source": [
    "ls *.stats"
   ]
  },
  {
   "cell_type": "code",
   "execution_count": 50,
   "metadata": {},
   "outputs": [],
   "source": [
    "import pstats"
   ]
  },
  {
   "cell_type": "code",
   "execution_count": 51,
   "metadata": {},
   "outputs": [],
   "source": [
    "stats = pstats.Stats('fast.stats')"
   ]
  },
  {
   "cell_type": "code",
   "execution_count": 52,
   "metadata": {},
   "outputs": [
    {
     "data": {
      "text/plain": [
       "<pstats.Stats at 0x7f5d142d7860>"
      ]
     },
     "execution_count": 52,
     "metadata": {},
     "output_type": "execute_result"
    }
   ],
   "source": [
    "stats"
   ]
  },
  {
   "cell_type": "code",
   "execution_count": 53,
   "metadata": {},
   "outputs": [
    {
     "name": "stdout",
     "output_type": "stream",
     "text": [
      "Wed May  9 13:57:00 2018    fast.stats\n",
      "\n",
      "         204 function calls in 0.116 seconds\n",
      "\n",
      "   Random listing order was used\n",
      "\n",
      "   ncalls  tottime  percall  cumtime  percall filename:lineno(function)\n",
      "      100    0.116    0.001    0.116    0.001 {built-in method time.sleep}\n",
      "        1    0.000    0.000    0.116    0.116 {built-in method builtins.exec}\n",
      "      100    0.000    0.000    0.116    0.001 <ipython-input-31-c1d172179a0c>:13(fast)\n",
      "        1    0.000    0.000    0.116    0.116 <ipython-input-31-c1d172179a0c>:25(use_fast)\n",
      "        1    0.000    0.000    0.116    0.116 <string>:1(<module>)\n",
      "        1    0.000    0.000    0.000    0.000 {method 'disable' of '_lsprof.Profiler' objects}\n",
      "\n",
      "\n"
     ]
    },
    {
     "data": {
      "text/plain": [
       "<pstats.Stats at 0x7f5d142d7860>"
      ]
     },
     "execution_count": 53,
     "metadata": {},
     "output_type": "execute_result"
    }
   ],
   "source": [
    "stats.print_stats()"
   ]
  },
  {
   "cell_type": "code",
   "execution_count": 56,
   "metadata": {},
   "outputs": [
    {
     "name": "stdout",
     "output_type": "stream",
     "text": [
      "Wed May  9 13:57:00 2018    fast.stats\n",
      "\n",
      "         204 function calls in 0.116 seconds\n",
      "\n",
      "   Ordered by: call count\n",
      "   List reduced from 6 to 4 due to restriction <4>\n",
      "\n",
      "   ncalls  tottime  percall  cumtime  percall filename:lineno(function)\n",
      "      100    0.116    0.001    0.116    0.001 {built-in method time.sleep}\n",
      "      100    0.000    0.000    0.116    0.001 <ipython-input-31-c1d172179a0c>:13(fast)\n",
      "        1    0.000    0.000    0.116    0.116 {built-in method builtins.exec}\n",
      "        1    0.000    0.000    0.116    0.116 <ipython-input-31-c1d172179a0c>:25(use_fast)\n",
      "\n",
      "\n"
     ]
    },
    {
     "data": {
      "text/plain": [
       "<pstats.Stats at 0x7f5d142d7860>"
      ]
     },
     "execution_count": 56,
     "metadata": {},
     "output_type": "execute_result"
    }
   ],
   "source": [
    "stats.sort_stats('calls').print_stats(4)"
   ]
  },
  {
   "cell_type": "code",
   "execution_count": 57,
   "metadata": {},
   "outputs": [
    {
     "name": "stdout",
     "output_type": "stream",
     "text": [
      "   Ordered by: call count\n",
      "\n",
      "Function                                          was called by...\n",
      "                                                      ncalls  tottime  cumtime\n",
      "{built-in method time.sleep}                      <-     100    0.116    0.116  <ipython-input-31-c1d172179a0c>:13(fast)\n",
      "<ipython-input-31-c1d172179a0c>:13(fast)          <-     100    0.000    0.116  <ipython-input-31-c1d172179a0c>:25(use_fast)\n",
      "{built-in method builtins.exec}                   <- \n",
      "<ipython-input-31-c1d172179a0c>:25(use_fast)      <-       1    0.000    0.116  <string>:1(<module>)\n",
      "<string>:1(<module>)                              <-       1    0.000    0.116  {built-in method builtins.exec}\n",
      "{method 'disable' of '_lsprof.Profiler' objects}  <- \n",
      "\n",
      "\n"
     ]
    },
    {
     "data": {
      "text/plain": [
       "<pstats.Stats at 0x7f5d142d7860>"
      ]
     },
     "execution_count": 57,
     "metadata": {},
     "output_type": "execute_result"
    }
   ],
   "source": [
    "stats.print_callers()"
   ]
  },
  {
   "cell_type": "code",
   "execution_count": 58,
   "metadata": {},
   "outputs": [
    {
     "name": "stdout",
     "output_type": "stream",
     "text": [
      "   Ordered by: call count\n",
      "\n",
      "Function                                          called...\n",
      "                                                      ncalls  tottime  cumtime\n",
      "{built-in method time.sleep}                      -> \n",
      "<ipython-input-31-c1d172179a0c>:13(fast)          ->     100    0.116    0.116  {built-in method time.sleep}\n",
      "{built-in method builtins.exec}                   ->       1    0.000    0.116  <string>:1(<module>)\n",
      "<ipython-input-31-c1d172179a0c>:25(use_fast)      ->     100    0.000    0.116  <ipython-input-31-c1d172179a0c>:13(fast)\n",
      "<string>:1(<module>)                              ->       1    0.000    0.116  <ipython-input-31-c1d172179a0c>:25(use_fast)\n",
      "{method 'disable' of '_lsprof.Profiler' objects}  -> \n",
      "\n",
      "\n"
     ]
    },
    {
     "data": {
      "text/plain": [
       "<pstats.Stats at 0x7f5d142d7860>"
      ]
     },
     "execution_count": 58,
     "metadata": {},
     "output_type": "execute_result"
    }
   ],
   "source": [
    "stats.print_callees()"
   ]
  },
  {
   "cell_type": "code",
   "execution_count": 60,
   "metadata": {},
   "outputs": [
    {
     "name": "stdout",
     "output_type": "stream",
     "text": [
      " "
     ]
    }
   ],
   "source": [
    "%prun use_fast()"
   ]
  },
  {
   "cell_type": "code",
   "execution_count": 61,
   "metadata": {},
   "outputs": [],
   "source": [
    "%prun?"
   ]
  },
  {
   "cell_type": "code",
   "execution_count": 62,
   "metadata": {},
   "outputs": [
    {
     "name": "stdout",
     "output_type": "stream",
     "text": [
      " "
     ]
    }
   ],
   "source": [
    "%prun -l 2 use_fast()"
   ]
  },
  {
   "cell_type": "code",
   "execution_count": 63,
   "metadata": {},
   "outputs": [
    {
     "name": "stdout",
     "output_type": "stream",
     "text": [
      " "
     ]
    }
   ],
   "source": [
    "%prun -s calls use_fast()"
   ]
  },
  {
   "cell_type": "markdown",
   "metadata": {},
   "source": [
    "## Wall Clock - CPU time\n"
   ]
  },
  {
   "cell_type": "code",
   "execution_count": 64,
   "metadata": {},
   "outputs": [
    {
     "name": "stdout",
     "output_type": "stream",
     "text": [
      "accumulate.py        make_list_gen.py                 pympler_list_growth.py\r\n",
      "calc.py              memory_growth_hpy.py             pystone2_3.py\r\n",
      "clock_check.py       memory_growth_pympler.py         pystone2.py\r\n",
      "cpu_time.py          memory_size_hpy.py               pystone3.py\r\n",
      "create_list.py       memory_size_pympler.py           pystone_converter.py\r\n",
      "fast.stats           profile_me.py                    use_mem.py\r\n",
      "list_alloc_steps.py  profile_me_use_line_profiler.py\r\n",
      "local_ref.py         profile_speed.py\r\n"
     ]
    }
   ],
   "source": [
    "ls"
   ]
  },
  {
   "cell_type": "code",
   "execution_count": 66,
   "metadata": {},
   "outputs": [
    {
     "name": "stdout",
     "output_type": "stream",
     "text": [
      "durtation_os_time0:      0.030000000000001137\n",
      "durtation_time_clock:    0.025891999999998916\n",
      "durtation_default_timer: 1.0262166520114988\n"
     ]
    }
   ],
   "source": [
    "# %load clock_check.py\n",
    "# file: measuring/clock_check.py\n",
    "\n",
    "\"\"\"Checking different timing functions.\n",
    "\"\"\"\n",
    "\n",
    "from __future__ import print_function\n",
    "\n",
    "import os\n",
    "import sys\n",
    "import time\n",
    "import timeit\n",
    "\n",
    "\n",
    "if sys.version_info.major < 3:\n",
    "    range = xrange\n",
    "\n",
    "\n",
    "def clock_check(duration=1):\n",
    "    \"\"\"Check the measured time with different methods.\n",
    "    \"\"\"\n",
    "    start_os_time0 = os.times()[0]\n",
    "    start_time_clock = time.clock()\n",
    "    start_default_timer = timeit.default_timer()\n",
    "    for _ in range(int(1e6)):\n",
    "        1 + 1\n",
    "    time.sleep(duration)\n",
    "    durtation_os_time0 = os.times()[0] - start_os_time0\n",
    "    durtation_time_clock = time.clock() - start_time_clock\n",
    "    durtation_default_timer = timeit.default_timer() - start_default_timer\n",
    "    print('durtation_os_time0:     ', durtation_os_time0)\n",
    "    print('durtation_time_clock:   ', durtation_time_clock)\n",
    "    print('durtation_default_timer:', durtation_default_timer)\n",
    "\n",
    "\n",
    "if __name__ == '__main__':\n",
    "    clock_check()\n"
   ]
  },
  {
   "cell_type": "code",
   "execution_count": 68,
   "metadata": {},
   "outputs": [
    {
     "name": "stdout",
     "output_type": "stream",
     "text": [
      "         7 function calls in 3.854 seconds\n",
      "\n",
      "   Ordered by: standard name\n",
      "\n",
      "   ncalls  tottime  percall  cumtime  percall filename:lineno(function)\n",
      "        1    0.000    0.000    2.001    2.001 <ipython-input-68-25f50bb7ef5e>:26(sleep)\n",
      "        1    1.853    1.853    1.853    1.853 <ipython-input-68-25f50bb7ef5e>:32(count)\n",
      "        1    0.000    0.000    3.854    3.854 <ipython-input-68-25f50bb7ef5e>:39(test)\n",
      "        1    0.000    0.000    3.854    3.854 <string>:1(<module>)\n",
      "        1    0.000    0.000    3.854    3.854 {built-in method builtins.exec}\n",
      "        1    2.001    2.001    2.001    2.001 {built-in method time.sleep}\n",
      "        1    0.000    0.000    0.000    0.000 {method 'disable' of '_lsprof.Profiler' objects}\n",
      "\n",
      "\n",
      "         7 function calls in 1.629 seconds\n",
      "\n",
      "   Ordered by: standard name\n",
      "\n",
      "   ncalls  tottime  percall  cumtime  percall filename:lineno(function)\n",
      "        1    0.000    0.000    0.005    0.005 <ipython-input-68-25f50bb7ef5e>:26(sleep)\n",
      "        1    1.623    1.623    1.623    1.623 <ipython-input-68-25f50bb7ef5e>:32(count)\n",
      "        1    0.000    0.000    1.629    1.629 <ipython-input-68-25f50bb7ef5e>:39(test)\n",
      "        1    0.000    0.000    1.629    1.629 <string>:1(<module>)\n",
      "        1    0.000    0.000    1.629    1.629 {built-in method builtins.exec}\n",
      "        1    0.005    0.005    0.005    0.005 {built-in method time.sleep}\n",
      "        1    0.000    0.000    0.000    0.000 {method 'disable' of '_lsprof.Profiler' objects}\n",
      "\n",
      "\n"
     ]
    }
   ],
   "source": [
    "# %load cpu_time.py\n",
    "# file: cpu_time.py\n",
    "\n",
    "\"\"\"Measuring CPU time instead of wall clock time.\n",
    "\"\"\"\n",
    "\n",
    "import cProfile\n",
    "import os\n",
    "import sys\n",
    "import time\n",
    "\n",
    "# Make it work with Python 2 and Python 3.\n",
    "if sys.version_info.major < 3:\n",
    "    range = xrange\n",
    "\n",
    "\n",
    "def cpu_time():\n",
    "    \"\"\"Function for cpu time. Os dependent.\n",
    "    \"\"\"\n",
    "    if sys.platform == 'win32':\n",
    "        return os.times()[0]\n",
    "    else:\n",
    "        return time.clock()\n",
    "\n",
    "\n",
    "def sleep():\n",
    "    \"\"\"Wait 2 seconds.\n",
    "    \"\"\"\n",
    "    time.sleep(2)\n",
    "\n",
    "\n",
    "def count():\n",
    "    \"\"\"100 million loops.\n",
    "    \"\"\"\n",
    "    for _ in range(int(1e8)):\n",
    "        1 + 1\n",
    "\n",
    "\n",
    "def test():\n",
    "    \"\"\"Run functions\n",
    "    \"\"\"\n",
    "    sleep()\n",
    "    count()\n",
    "\n",
    "\n",
    "def profile():\n",
    "    \"\"\"Profile with wall clock and cpu time.\n",
    "    \"\"\"\n",
    "    profiler = cProfile.Profile()\n",
    "    profiler.run('test()')\n",
    "    profiler.print_stats()\n",
    "\n",
    "    profiler = cProfile.Profile(cpu_time)\n",
    "    profiler.run('test()')\n",
    "    profiler.print_stats()\n",
    "\n",
    "if __name__ == '__main__':\n",
    "    profile()\n"
   ]
  },
  {
   "cell_type": "markdown",
   "metadata": {},
   "source": [
    "## Example"
   ]
  },
  {
   "cell_type": "code",
   "execution_count": 69,
   "metadata": {},
   "outputs": [
    {
     "name": "stdout",
     "output_type": "stream",
     "text": [
      "accumulate.py        make_list_gen.py                 pympler_list_growth.py\r\n",
      "calc.py              memory_growth_hpy.py             pystone2_3.py\r\n",
      "clock_check.py       memory_growth_pympler.py         pystone2.py\r\n",
      "cpu_time.py          memory_size_hpy.py               pystone3.py\r\n",
      "create_list.py       memory_size_pympler.py           pystone_converter.py\r\n",
      "fast.stats           profile_me.py                    use_mem.py\r\n",
      "list_alloc_steps.py  profile_me_use_line_profiler.py\r\n",
      "local_ref.py         profile_speed.py\r\n"
     ]
    }
   ],
   "source": [
    "ls"
   ]
  },
  {
   "cell_type": "code",
   "execution_count": 70,
   "metadata": {},
   "outputs": [
    {
     "name": "stdout",
     "output_type": "stream",
     "text": [
      "/home/jake/projects/notebook/faster-python-programs/source/optimizing/pi\n"
     ]
    }
   ],
   "source": [
    "cd ../pi/"
   ]
  },
  {
   "cell_type": "code",
   "execution_count": 72,
   "metadata": {},
   "outputs": [
    {
     "name": "stdout",
     "output_type": "stream",
     "text": [
      "pi: 3.140964\n"
     ]
    }
   ],
   "source": [
    "# %load simple_pi.py\n",
    "# file: simple_pi.py\n",
    "\n",
    "\"\"\"Calculating pi with Monte Carlo.\n",
    "\"\"\"\n",
    "\n",
    "from __future__ import print_function\n",
    "\n",
    "import math\n",
    "import random\n",
    "import sys\n",
    "\n",
    "\n",
    "if sys.version_info[0] < 3:\n",
    "    range = xrange\n",
    "\n",
    "\n",
    "def pi_plain(total):\n",
    "    \"\"\"Calculate pi with `total` hits.\n",
    "    \"\"\"\n",
    "    count_inside = 0\n",
    "    for _ in range(total):\n",
    "        x = random.random()\n",
    "        y = random.random()\n",
    "        dist = math.sqrt(x * x + y * y)\n",
    "        if dist < 1:\n",
    "            count_inside += 1\n",
    "    return 4.0 * count_inside / total\n",
    "\n",
    "if __name__ == '__main__':\n",
    "\n",
    "    def test():\n",
    "        \"\"\"Check if it works.\n",
    "        \"\"\"\n",
    "        n = int(1e6)\n",
    "        print('pi:', pi_plain(n))\n",
    "\n",
    "    test()\n"
   ]
  },
  {
   "cell_type": "code",
   "execution_count": 73,
   "metadata": {},
   "outputs": [
    {
     "name": "stdout",
     "output_type": "stream",
     "text": [
      " "
     ]
    }
   ],
   "source": [
    "%prun pi_plain(int(1e6))"
   ]
  },
  {
   "cell_type": "code",
   "execution_count": 74,
   "metadata": {},
   "outputs": [],
   "source": [
    "%load_ext snakeviz"
   ]
  },
  {
   "cell_type": "code",
   "execution_count": 75,
   "metadata": {},
   "outputs": [
    {
     "name": "stdout",
     "output_type": "stream",
     "text": [
      " \n",
      "*** Profile stats marshalled to file '/tmp/tmpn_6chu3w'. \n"
     ]
    }
   ],
   "source": [
    "%snakeviz pi_plain(int(1e6))"
   ]
  },
  {
   "cell_type": "markdown",
   "metadata": {},
   "source": [
    "# Line-by-line"
   ]
  },
  {
   "cell_type": "code",
   "execution_count": 76,
   "metadata": {},
   "outputs": [
    {
     "name": "stdout",
     "output_type": "stream",
     "text": [
      "/home/jake/projects/notebook/faster-python-programs/source/optimizing/measuring\n"
     ]
    }
   ],
   "source": [
    "cd ../measuring/"
   ]
  },
  {
   "cell_type": "code",
   "execution_count": 77,
   "metadata": {},
   "outputs": [
    {
     "name": "stdout",
     "output_type": "stream",
     "text": [
      "accumulate.py        make_list_gen.py                 pympler_list_growth.py\r\n",
      "calc.py              memory_growth_hpy.py             pystone2_3.py\r\n",
      "clock_check.py       memory_growth_pympler.py         pystone2.py\r\n",
      "cpu_time.py          memory_size_hpy.py               pystone3.py\r\n",
      "create_list.py       memory_size_pympler.py           pystone_converter.py\r\n",
      "fast.stats           profile_me.py                    use_mem.py\r\n",
      "list_alloc_steps.py  profile_me_use_line_profiler.py\r\n",
      "local_ref.py         profile_speed.py\r\n"
     ]
    }
   ],
   "source": [
    "ls"
   ]
  },
  {
   "cell_type": "code",
   "execution_count": 79,
   "metadata": {},
   "outputs": [
    {
     "ename": "TypeError",
     "evalue": "profile() takes 0 positional arguments but 1 was given",
     "output_type": "error",
     "traceback": [
      "\u001b[0;31m---------------------------------------------------------------------------\u001b[0m",
      "\u001b[0;31mTypeError\u001b[0m                                 Traceback (most recent call last)",
      "\u001b[0;32m<ipython-input-79-c43932f29d67>\u001b[0m in \u001b[0;36m<module>\u001b[0;34m()\u001b[0m\n\u001b[1;32m     23\u001b[0m     \u001b[0mtime\u001b[0m\u001b[0;34m.\u001b[0m\u001b[0msleep\u001b[0m\u001b[0;34m(\u001b[0m\u001b[0;36m0.1\u001b[0m\u001b[0;34m)\u001b[0m\u001b[0;34m\u001b[0m\u001b[0m\n\u001b[1;32m     24\u001b[0m \u001b[0;34m\u001b[0m\u001b[0m\n\u001b[0;32m---> 25\u001b[0;31m \u001b[0;34m@\u001b[0m\u001b[0mprofile\u001b[0m\u001b[0;34m\u001b[0m\u001b[0m\n\u001b[0m\u001b[1;32m     26\u001b[0m \u001b[0;32mdef\u001b[0m \u001b[0muse_fast\u001b[0m\u001b[0;34m(\u001b[0m\u001b[0;34m)\u001b[0m\u001b[0;34m:\u001b[0m\u001b[0;34m\u001b[0m\u001b[0m\n\u001b[1;32m     27\u001b[0m     \"\"\"Call `fast` 100 times.\n",
      "\u001b[0;31mTypeError\u001b[0m: profile() takes 0 positional arguments but 1 was given"
     ]
    }
   ],
   "source": [
    "# %load profile_me_use_line_profiler.py\n",
    "# file profile_me_use_line_profiler.py\n",
    "\n",
    "\"\"\"Example to be profiled.\n",
    "\"\"\"\n",
    "\n",
    "import time\n",
    "import sys\n",
    "\n",
    "if sys.version_info.major < 3:\n",
    "    range = xrange\n",
    "\n",
    "\n",
    "def fast():\n",
    "    \"\"\"Wait 0.001 seconds.\n",
    "    \"\"\"\n",
    "    time.sleep(1e-3)\n",
    "\n",
    "\n",
    "def slow():\n",
    "    \"\"\"Wait 0.1 seconds.\n",
    "    \"\"\"\n",
    "    time.sleep(0.1)\n",
    "\n",
    "@profile\n",
    "def use_fast():\n",
    "    \"\"\"Call `fast` 100 times.\n",
    "    \"\"\"\n",
    "    for _ in range(100):\n",
    "        fast()\n",
    "\n",
    "@profile\n",
    "def use_slow():\n",
    "    \"\"\"Call `slow` 100 times.\n",
    "    \"\"\"\n",
    "    for _ in range(100):\n",
    "        slow()\n",
    "\n",
    "\n",
    "if __name__ == '__main__':\n",
    "    use_fast()\n",
    "    use_slow()\n"
   ]
  },
  {
   "cell_type": "code",
   "execution_count": 81,
   "metadata": {},
   "outputs": [
    {
     "ename": "TypeError",
     "evalue": "profile() takes 0 positional arguments but 1 was given",
     "output_type": "error",
     "traceback": [
      "\u001b[0;31m---------------------------------------------------------------------------\u001b[0m",
      "\u001b[0;31mTypeError\u001b[0m                                 Traceback (most recent call last)",
      "\u001b[0;32m<ipython-input-81-b760b92a5d81>\u001b[0m in \u001b[0;36m<module>\u001b[0;34m()\u001b[0m\n\u001b[1;32m      5\u001b[0m \"\"\"\n\u001b[1;32m      6\u001b[0m \u001b[0;34m\u001b[0m\u001b[0m\n\u001b[0;32m----> 7\u001b[0;31m \u001b[0;34m@\u001b[0m\u001b[0mprofile\u001b[0m\u001b[0;34m\u001b[0m\u001b[0m\n\u001b[0m\u001b[1;32m      8\u001b[0m \u001b[0;32mdef\u001b[0m \u001b[0maccumulate\u001b[0m\u001b[0;34m(\u001b[0m\u001b[0miterable\u001b[0m\u001b[0;34m)\u001b[0m\u001b[0;34m:\u001b[0m\u001b[0;34m\u001b[0m\u001b[0m\n\u001b[1;32m      9\u001b[0m     \"\"\"Accumulate the intermediate steps in summing all elements.\n",
      "\u001b[0;31mTypeError\u001b[0m: profile() takes 0 positional arguments but 1 was given"
     ]
    }
   ],
   "source": [
    "# %load accumulate.py\n",
    "# file accumulate.py\n",
    "\n",
    "\"\"\"Simple test function for line_profiler.\n",
    "\"\"\"\n",
    "\n",
    "@profile\n",
    "def accumulate(iterable):\n",
    "    \"\"\"Accumulate the intermediate steps in summing all elements.\n",
    "\n",
    "    The result is a list with the length of `iterable`.\n",
    "    The last element is the sum of all elements of `iterable`\n",
    "    >>> accumulate(range(5))\n",
    "    [0, 1, 3, 6, 10]\n",
    "    >>> accumulate(range(10))\n",
    "    [0, 1, 3, 6, 10, 15, 21, 28, 36, 45]\n",
    "    \"\"\"\n",
    "    acm = [iterable[0]]\n",
    "    for elem in iterable[1:]:\n",
    "        old_value = acm[-1]\n",
    "        new_value = old_value + elem\n",
    "        acm.append(new_value)\n",
    "    return acm\n",
    "\n",
    "\n",
    "if __name__ == '__main__':\n",
    "    accumulate(range(10))\n",
    "    accumulate(range(100))\n"
   ]
  },
  {
   "cell_type": "code",
   "execution_count": null,
   "metadata": {},
   "outputs": [],
   "source": [
    "# %load calc.py\n",
    "#calc.py\n",
    "\n",
    "\"\"\"Simple test function for line_profiler doing some math.\n",
    "\"\"\"\n",
    "\n",
    "import math\n",
    "import sys\n",
    "\n",
    "if sys.version_info.major < 3:\n",
    "    range = xrange\n",
    "\n",
    "\n",
    "@profile\n",
    "def calc(number, loops=1000):\n",
    "    \"\"\"Do some math calculations.\n",
    "    \"\"\"\n",
    "    sqrt = math.sqrt\n",
    "    for x in range(loops):\n",
    "        x = number + 10\n",
    "        x = number * 10\n",
    "        x = number ** 10\n",
    "        x = pow(number, 10)\n",
    "        x = math.sqrt(number)\n",
    "        x = sqrt(number)\n",
    "        math.sqrt\n",
    "        sqrt\n",
    "\n",
    "if __name__ == '__main__':\n",
    "    calc(100, int(1e5))\n"
   ]
  },
  {
   "cell_type": "code",
   "execution_count": 83,
   "metadata": {},
   "outputs": [],
   "source": [
    "# kernprof -v -l calc.py"
   ]
  },
  {
   "cell_type": "code",
   "execution_count": 89,
   "metadata": {},
   "outputs": [],
   "source": [
    "# %load local_ref.py\n",
    "# local_ref.py\n",
    "\n",
    "\"\"\"Testing access to local name and name referenced in another module.\n",
    "\"\"\"\n",
    "\n",
    "import math\n",
    "import sys\n",
    "\n",
    "if sys.version_info.major < 3:\n",
    "    range = xrange\n",
    "\n",
    "# If there is no decorator `profile`, make one that just calls the function,\n",
    "# i.e. does nothing.\n",
    "# This allows to call `kernprof` with and without the option `-l` without\n",
    "# commenting or un-commentimg `@profile' all the time.\n",
    "# You can add this to the builtins to make it available in the whole program.\n",
    "try:\n",
    "#     @profile\n",
    "    def dummy():\n",
    "        \"\"\"Needs to be here to avoid a syntax error.\n",
    "        \"\"\"\n",
    "        pass\n",
    "except NameError:\n",
    "    def profile(func):\n",
    "        \"\"\"Will act as the decorator `profile` if it was already found.\n",
    "        \"\"\"\n",
    "        return func\n",
    "\n",
    "# @profile\n",
    "def local_ref(counter):\n",
    "    \"\"\"Access local name.\n",
    "    \"\"\"\n",
    "    # make it local\n",
    "    sqrt = math.sqrt\n",
    "    for _ in range(counter):\n",
    "        sqrt\n",
    "\n",
    "# @profile\n",
    "def module_ref(counter):\n",
    "    \"\"\"Access name as attribute of another module.\n",
    "    \"\"\"\n",
    "    for _ in range(counter):\n",
    "        math.sqrt\n",
    "\n",
    "\n",
    "# @profile\n",
    "def test(counter):\n",
    "    \"\"\"Call both functions.\n",
    "    \"\"\"\n",
    "    local_ref(counter)\n",
    "    module_ref(counter)\n",
    "\n",
    "if __name__ == '__main__':\n",
    "    test(int(1e7))\n"
   ]
  },
  {
   "cell_type": "code",
   "execution_count": 85,
   "metadata": {},
   "outputs": [],
   "source": [
    "%load_ext line_profiler"
   ]
  },
  {
   "cell_type": "code",
   "execution_count": 90,
   "metadata": {},
   "outputs": [],
   "source": [
    "%lprun -f local_ref -f module_ref test(int(1e7))"
   ]
  },
  {
   "cell_type": "markdown",
   "metadata": {},
   "source": [
    "# 2.7.1 Exercise"
   ]
  },
  {
   "cell_type": "code",
   "execution_count": 93,
   "metadata": {},
   "outputs": [],
   "source": [
    "# %load create_list.py\n",
    "# file: create_list.py\n",
    "\n",
    "import sys\n",
    "\n",
    "if sys.version_info.major < 3:\n",
    "    range = xrange\n",
    "\n",
    "\n",
    "def insert_zero(n=int(1e4)):\n",
    "    \"\"\"Assemble list with `insert`. Inefficient.\n",
    "    \"\"\"\n",
    "    L = []\n",
    "    for x in range(n):\n",
    "        L.insert(0, x)\n",
    "    return L\n",
    "\n",
    "\n",
    "def append_reverse(n=int(1e4)):\n",
    "    \"\"\"Assemble list with `append` and `reverse`.\n",
    "    \"\"\"\n",
    "    L = []\n",
    "    for x in range(n):\n",
    "        L.append(x)\n",
    "    L.reverse()\n",
    "    return L\n"
   ]
  },
  {
   "cell_type": "markdown",
   "metadata": {},
   "source": [
    "## cProfile"
   ]
  },
  {
   "cell_type": "code",
   "execution_count": 98,
   "metadata": {},
   "outputs": [
    {
     "name": "stdout",
     "output_type": "stream",
     "text": [
      "         10004 function calls in 0.036 seconds\n",
      "\n",
      "   Ordered by: standard name\n",
      "\n",
      "   ncalls  tottime  percall  cumtime  percall filename:lineno(function)\n",
      "        1    0.004    0.004    0.036    0.036 <ipython-input-93-4325140c605c>:10(insert_zero)\n",
      "        1    0.000    0.000    0.036    0.036 <string>:1(<module>)\n",
      "        1    0.000    0.000    0.036    0.036 {built-in method builtins.exec}\n",
      "        1    0.000    0.000    0.000    0.000 {method 'disable' of '_lsprof.Profiler' objects}\n",
      "    10000    0.032    0.000    0.032    0.000 {method 'insert' of 'list' objects}\n",
      "\n",
      "\n"
     ]
    }
   ],
   "source": [
    "cProfile.run('insert_zero()')"
   ]
  },
  {
   "cell_type": "code",
   "execution_count": 97,
   "metadata": {},
   "outputs": [
    {
     "name": "stdout",
     "output_type": "stream",
     "text": [
      " \n",
      "*** Profile stats marshalled to file '/tmp/tmpgppgcbfz'. \n"
     ]
    }
   ],
   "source": [
    "%snakeviz insert_zero"
   ]
  },
  {
   "cell_type": "code",
   "execution_count": null,
   "metadata": {},
   "outputs": [],
   "source": []
  },
  {
   "cell_type": "markdown",
   "metadata": {},
   "source": [
    "## Solution"
   ]
  },
  {
   "cell_type": "code",
   "execution_count": 103,
   "metadata": {},
   "outputs": [
    {
     "name": "stdout",
     "output_type": "stream",
     "text": [
      "18 ms ± 236 µs per loop (mean ± std. dev. of 7 runs, 100 loops each)\n"
     ]
    }
   ],
   "source": [
    "res_insert = %timeit -o insert_zero()"
   ]
  },
  {
   "cell_type": "code",
   "execution_count": 104,
   "metadata": {},
   "outputs": [
    {
     "name": "stdout",
     "output_type": "stream",
     "text": [
      "661 µs ± 21.9 µs per loop (mean ± std. dev. of 7 runs, 1000 loops each)\n"
     ]
    }
   ],
   "source": [
    "res_append = %timeit -o append_reverse()"
   ]
  },
  {
   "cell_type": "code",
   "execution_count": 105,
   "metadata": {},
   "outputs": [
    {
     "data": {
      "text/plain": [
       "27.19219446811509"
      ]
     },
     "execution_count": 105,
     "metadata": {},
     "output_type": "execute_result"
    }
   ],
   "source": [
    "res_insert.average / res_append.average"
   ]
  },
  {
   "cell_type": "code",
   "execution_count": 106,
   "metadata": {},
   "outputs": [],
   "source": [
    "n = int(1e5)"
   ]
  },
  {
   "cell_type": "code",
   "execution_count": 108,
   "metadata": {},
   "outputs": [
    {
     "name": "stdout",
     "output_type": "stream",
     "text": [
      "1.94 s ± 83.7 ms per loop (mean ± std. dev. of 7 runs, 1 loop each)\n"
     ]
    }
   ],
   "source": [
    "res_insert = %timeit -o insert_zero(n)"
   ]
  },
  {
   "cell_type": "code",
   "execution_count": 109,
   "metadata": {},
   "outputs": [
    {
     "name": "stdout",
     "output_type": "stream",
     "text": [
      "6.89 ms ± 59.5 µs per loop (mean ± std. dev. of 7 runs, 100 loops each)\n"
     ]
    }
   ],
   "source": [
    "res_append = %timeit -o append_reverse(n)"
   ]
  },
  {
   "cell_type": "code",
   "execution_count": 110,
   "metadata": {},
   "outputs": [
    {
     "data": {
      "text/plain": [
       "281.2836667343308"
      ]
     },
     "execution_count": 110,
     "metadata": {},
     "output_type": "execute_result"
    }
   ],
   "source": [
    "res_insert.average / res_append.average"
   ]
  },
  {
   "cell_type": "code",
   "execution_count": 114,
   "metadata": {},
   "outputs": [
    {
     "name": "stdout",
     "output_type": "stream",
     "text": [
      " "
     ]
    }
   ],
   "source": [
    "%prun insert_zero(n)"
   ]
  },
  {
   "cell_type": "code",
   "execution_count": 115,
   "metadata": {},
   "outputs": [
    {
     "name": "stdout",
     "output_type": "stream",
     "text": [
      " "
     ]
    }
   ],
   "source": [
    "%prun append_reverse(n)"
   ]
  },
  {
   "cell_type": "code",
   "execution_count": 116,
   "metadata": {},
   "outputs": [],
   "source": [
    "# insert copies each time, append python make allocation larger than it needs so only needs to make them a few times"
   ]
  },
  {
   "cell_type": "markdown",
   "metadata": {},
   "source": [
    "# Memory Profiling"
   ]
  },
  {
   "cell_type": "code",
   "execution_count": 118,
   "metadata": {},
   "outputs": [],
   "source": [
    "import pympler"
   ]
  },
  {
   "cell_type": "code",
   "execution_count": 119,
   "metadata": {},
   "outputs": [],
   "source": [
    "import sys"
   ]
  },
  {
   "cell_type": "code",
   "execution_count": 120,
   "metadata": {},
   "outputs": [
    {
     "data": {
      "text/plain": [
       "28"
      ]
     },
     "execution_count": 120,
     "metadata": {},
     "output_type": "execute_result"
    }
   ],
   "source": [
    "sys.getsizeof(3)"
   ]
  },
  {
   "cell_type": "code",
   "execution_count": 121,
   "metadata": {},
   "outputs": [
    {
     "data": {
      "text/plain": [
       "88"
      ]
     },
     "execution_count": 121,
     "metadata": {},
     "output_type": "execute_result"
    }
   ],
   "source": [
    "L1 = [1, 2, 3]\n",
    "L2 = [[1, 2, 3], [4, 5, 6], [7, 8, 9]]\n",
    "sys.getsizeof(L1)"
   ]
  },
  {
   "cell_type": "code",
   "execution_count": 122,
   "metadata": {},
   "outputs": [
    {
     "data": {
      "text/plain": [
       "88"
      ]
     },
     "execution_count": 122,
     "metadata": {},
     "output_type": "execute_result"
    }
   ],
   "source": [
    "sys.getsizeof(L2)"
   ]
  },
  {
   "cell_type": "code",
   "execution_count": 123,
   "metadata": {},
   "outputs": [],
   "source": [
    "from pympler import tracker"
   ]
  },
  {
   "cell_type": "code",
   "execution_count": 124,
   "metadata": {},
   "outputs": [],
   "source": [
    "mem = tracker.SummaryTracker()"
   ]
  },
  {
   "cell_type": "code",
   "execution_count": 126,
   "metadata": {},
   "outputs": [
    {
     "data": {
      "text/plain": [
       "<pympler.tracker.SummaryTracker at 0x7f5d142aba20>"
      ]
     },
     "execution_count": 126,
     "metadata": {},
     "output_type": "execute_result"
    }
   ],
   "source": [
    "mem"
   ]
  },
  {
   "cell_type": "code",
   "execution_count": 127,
   "metadata": {},
   "outputs": [
    {
     "name": "stdout",
     "output_type": "stream",
     "text": [
      "                               types |   # objects |   total size\n",
      "==================================== | =========== | ============\n",
      "                        <class 'list |        7588 |    712.68 KB\n",
      "                         <class 'str |        7592 |    545.71 KB\n",
      "                         <class 'int |        1641 |     44.88 KB\n",
      "                       <class 'bytes |          15 |      1.70 KB\n",
      "                       <class 'tuple |          21 |      1.34 KB\n",
      "           <class 'method_descriptor |          12 |    864     B\n",
      "                        <class 'dict |           1 |    520     B\n",
      "                     <class 'weakref |           6 |    480     B\n",
      "                        <class 'cell |           8 |    384     B\n",
      "                        <class 'code |           2 |    288     B\n",
      "                 function (<lambda>) |           2 |    272     B\n",
      "               <class 'list_iterator |           3 |    168     B\n",
      "  <class 'builtin_function_or_method |           2 |    144     B\n",
      "               function (store_info) |           1 |    136     B\n",
      "              <class 'sqlite3.Cursor |           1 |    112     B\n"
     ]
    }
   ],
   "source": [
    "mem.print_diff()"
   ]
  },
  {
   "cell_type": "code",
   "execution_count": 128,
   "metadata": {},
   "outputs": [
    {
     "name": "stdout",
     "output_type": "stream",
     "text": [
      "                                      types |   # objects |    total size\n",
      "=========================================== | =========== | =============\n",
      "                                <class 'str |           5 |     319     B\n",
      "                            <class 'weakref |           1 |      80     B\n",
      "         <class 'builtin_function_or_method |           1 |      72     B\n",
      "                                <class 'int |           1 |      28     B\n",
      "                              <class 'float |           1 |      24     B\n",
      "                      <class 'list_iterator |          -1 |     -56     B\n",
      "  <class 'tornado.stack_context.NullContext |          -1 |     -56     B\n",
      "                               <class 'code |          -1 |    -144     B\n",
      "                             <class 'method |          -3 |    -192     B\n",
      "                               <class 'list |          -1 |    -232     B\n",
      "                               <class 'dict |          -1 |    -240     B\n",
      "                        function (<lambda>) |          -2 |    -272     B\n",
      "                               <class 'cell |          -6 |    -288     B\n",
      "                              <class 'tuple |         -13 |    -784     B\n",
      "                              <class 'bytes |         -11 |   -1374     B\n"
     ]
    }
   ],
   "source": [
    "mem.print_diff()"
   ]
  },
  {
   "cell_type": "code",
   "execution_count": 129,
   "metadata": {},
   "outputs": [
    {
     "name": "stdout",
     "output_type": "stream",
     "text": [
      "                               types |   # objects |   total size\n",
      "==================================== | =========== | ============\n",
      "                        <class 'dict |           1 |    240     B\n",
      "                         <class 'str |           3 |    189     B\n",
      "                       <class 'bytes |           1 |     97     B\n",
      "                      <class 'method |           1 |     64     B\n",
      "                <class '_thread.lock |           1 |     40     B\n",
      "                       <class 'float |           1 |     24     B\n",
      "                        <class 'list |          -1 |    -64     B\n",
      "              <class 'sqlite3.Cursor |          -1 |   -112     B\n",
      "               <class 'list_iterator |          -2 |   -112     B\n",
      "                       <class 'tuple |          -2 |   -120     B\n",
      "  <class 'builtin_function_or_method |          -3 |   -216     B\n"
     ]
    }
   ],
   "source": [
    "mem.print_diff()"
   ]
  },
  {
   "cell_type": "code",
   "execution_count": 130,
   "metadata": {},
   "outputs": [],
   "source": [
    "L = list(range(10**6))"
   ]
  },
  {
   "cell_type": "code",
   "execution_count": 131,
   "metadata": {},
   "outputs": [
    {
     "name": "stdout",
     "output_type": "stream",
     "text": [
      "                                      types |   # objects |   total size\n",
      "=========================================== | =========== | ============\n",
      "                                <class 'int |      999811 |     26.70 MB\n",
      "                               <class 'list |           8 |      8.58 MB\n",
      "                               <class 'dict |           0 |      4.51 KB\n",
      "                              <class 'bytes |          14 |      1.63 KB\n",
      "                              <class 'tuple |          19 |      1.20 KB\n",
      "                                <class 'str |           9 |    682     B\n",
      "                               <class 'cell |           6 |    288     B\n",
      "                        function (<lambda>) |           2 |    272     B\n",
      "                            <class 'weakref |           3 |    240     B\n",
      "                      <class 'list_iterator |           3 |    168     B\n",
      "         <class 'builtin_function_or_method |           2 |    144     B\n",
      "                               <class 'code |           1 |    144     B\n",
      "                             <class 'method |           2 |    128     B\n",
      "                     <class 'sqlite3.Cursor |           1 |    112     B\n",
      "  <class 'tornado.stack_context.NullContext |           1 |     56     B\n"
     ]
    }
   ],
   "source": [
    "mem.print_diff()"
   ]
  },
  {
   "cell_type": "code",
   "execution_count": 132,
   "metadata": {},
   "outputs": [
    {
     "data": {
      "text/plain": [
       "345"
      ]
     },
     "execution_count": 132,
     "metadata": {},
     "output_type": "execute_result"
    }
   ],
   "source": [
    "sys.getrefcount(5)"
   ]
  },
  {
   "cell_type": "code",
   "execution_count": 133,
   "metadata": {},
   "outputs": [
    {
     "data": {
      "text/plain": [
       "5225"
      ]
     },
     "execution_count": 133,
     "metadata": {},
     "output_type": "execute_result"
    }
   ],
   "source": [
    "sys.getrefcount(0)"
   ]
  },
  {
   "cell_type": "code",
   "execution_count": 134,
   "metadata": {},
   "outputs": [],
   "source": [
    "# small numbers are stored in cache...explains 999811"
   ]
  },
  {
   "cell_type": "code",
   "execution_count": 135,
   "metadata": {},
   "outputs": [
    {
     "name": "stdout",
     "output_type": "stream",
     "text": [
      "                               types |   # objects |   total size\n",
      "==================================== | =========== | ============\n",
      "                         <class 'str |          16 |      1.19 KB\n",
      "                       <class 'bytes |           4 |    388     B\n",
      "                        <class 'list |           3 |    312     B\n",
      "                     <class 'weakref |           3 |    240     B\n",
      "                       <class 'float |           4 |     96     B\n",
      "                         <class 'int |           3 |     84     B\n",
      "                      <class 'method |           1 |     64     B\n",
      "                       <class 'tuple |           0 |     56     B\n",
      "                <class '_thread.lock |           1 |     40     B\n",
      "              <class 'sqlite3.Cursor |          -1 |   -112     B\n",
      "               <class 'list_iterator |          -2 |   -112     B\n",
      "  <class 'builtin_function_or_method |          -3 |   -216     B\n"
     ]
    }
   ],
   "source": [
    "mem.print_diff()"
   ]
  },
  {
   "cell_type": "code",
   "execution_count": 136,
   "metadata": {},
   "outputs": [],
   "source": [
    "del L"
   ]
  },
  {
   "cell_type": "code",
   "execution_count": 137,
   "metadata": {},
   "outputs": [
    {
     "name": "stdout",
     "output_type": "stream",
     "text": [
      "                                      types |   # objects |    total size\n",
      "=========================================== | =========== | =============\n",
      "                                <class 'str |           7 |     445     B\n",
      "         <class 'builtin_function_or_method |           4 |     288     B\n",
      "                            <class 'weakref |           3 |     240     B\n",
      "                     <class 'sqlite3.Cursor |           1 |     112     B\n",
      "                      <class 'list_iterator |           1 |      56     B\n",
      "                              <class 'float |           2 |      48     B\n",
      "                       <class '_thread.lock |          -1 |     -40     B\n",
      "  <class 'tornado.stack_context.NullContext |          -1 |     -56     B\n",
      "                               <class 'code |          -1 |    -144     B\n",
      "                               <class 'dict |          -1 |    -240     B\n",
      "                             <class 'method |          -4 |    -256     B\n",
      "                        function (<lambda>) |          -2 |    -272     B\n",
      "                               <class 'cell |          -6 |    -288     B\n",
      "                              <class 'tuple |          -8 |    -440     B\n",
      "                              <class 'bytes |         -10 |   -1277     B\n"
     ]
    }
   ],
   "source": [
    "mem.print_diff()"
   ]
  },
  {
   "cell_type": "code",
   "execution_count": 138,
   "metadata": {},
   "outputs": [],
   "source": [
    "# notebook doing stuff in background, keeps artifacts, expect a larger change outside notebook env"
   ]
  },
  {
   "cell_type": "code",
   "execution_count": 139,
   "metadata": {},
   "outputs": [
    {
     "data": {
      "text/plain": [
       "'/home/jake/projects/notebook/faster-python-programs/source/optimizing/measuring'"
      ]
     },
     "execution_count": 139,
     "metadata": {},
     "output_type": "execute_result"
    }
   ],
   "source": [
    "pwd"
   ]
  },
  {
   "cell_type": "code",
   "execution_count": 143,
   "metadata": {},
   "outputs": [
    {
     "name": "stdout",
     "output_type": "stream",
     "text": [
      "used memory {'make_big': [[\"<class 'int\", 999812, 27994736], [\"<class 'list\", 1, 9000112]]}\n"
     ]
    }
   ],
   "source": [
    "# %load memory_size_pympler.py\n",
    "# file: memory_size_pympler.py\n",
    "\n",
    "\"\"\"Measure the size of used memory with a decorator.\n",
    "\"\"\"\n",
    "\n",
    "from __future__ import print_function\n",
    "\n",
    "import functools                                                #1\n",
    "import sys\n",
    "\n",
    "if sys.version_info.major < 3:\n",
    "    range = xrange\n",
    "\n",
    "from pympler import tracker                                     #2\n",
    "\n",
    "memory = {}                                                     #3\n",
    "\n",
    "\n",
    "def measure_memory(function):                                   #4\n",
    "    \"\"\"Decorator to measure memory size.\n",
    "    \"\"\"\n",
    "\n",
    "    @functools.wraps(function)                                  #5\n",
    "    def _measure_memory(*args, **kwargs):                       #6\n",
    "        \"\"\"This replaces the function that is to be measured.\n",
    "        \"\"\"\n",
    "        measurer = tracker.SummaryTracker()                     #7\n",
    "        for _ in range(2):                                      #8\n",
    "            measurer.diff()                                     #9\n",
    "        try:\n",
    "            res = function(*args, **kwargs)                     #10\n",
    "            return res\n",
    "        finally:                                                #11\n",
    "            memory[function.__name__] = (measurer.diff())\n",
    "    return _measure_memory                                      #12\n",
    "\n",
    "\n",
    "if __name__ == '__main__':\n",
    "\n",
    "    @measure_memory                                             #13\n",
    "    def make_big(number):\n",
    "        \"\"\"Example function that makes a large list.\n",
    "        \"\"\"\n",
    "        return list(range(number))                              #14\n",
    "\n",
    "    make_big(int(1e6))                                          #15\n",
    "    print('used memory', memory)                                #16\n"
   ]
  },
  {
   "cell_type": "code",
   "execution_count": 144,
   "metadata": {},
   "outputs": [
    {
     "data": {
      "text/plain": [
       "'make_big'"
      ]
     },
     "execution_count": 144,
     "metadata": {},
     "output_type": "execute_result"
    }
   ],
   "source": [
    "make_big.__name__"
   ]
  },
  {
   "cell_type": "code",
   "execution_count": 146,
   "metadata": {},
   "outputs": [
    {
     "name": "stdout",
     "output_type": "stream",
     "text": [
      "memory make_big: []\n",
      "memory grow: [[\"<class 'int\", 999813, 27994764], [\"<class 'list\", 0, 8697400]]\n"
     ]
    }
   ],
   "source": [
    "# %load memory_growth_pympler.py\n",
    "# file memory_growth_pympler.py\n",
    "\n",
    "\"\"\"Measure the memory growth during a function call.\n",
    "\"\"\"\n",
    "from __future__ import print_function\n",
    "\n",
    "import sys\n",
    "\n",
    "if sys.version_info.major < 3:\n",
    "    range = xrange\n",
    "\n",
    "from pympler import tracker                                     #1\n",
    "\n",
    "\n",
    "def check_memory_growth(function, *args, **kwargs):             #2\n",
    "    \"\"\"Measure the memory usage of `function`.\n",
    "    \"\"\"\n",
    "    measurer = tracker.SummaryTracker()                         #3\n",
    "    for _ in range(2):                                          #4\n",
    "        measurer.diff()                                         #5\n",
    "    function(*args, **kwargs)                                   #6\n",
    "    return measurer.diff()                                      #7\n",
    "\n",
    "if __name__ == '__main__':\n",
    "\n",
    "    def test():\n",
    "        \"\"\"Do some tests with different memory usage patterns.\n",
    "        \"\"\"\n",
    "\n",
    "        def make_big(number):                                   #8\n",
    "            \"\"\"Function without side effects.\n",
    "\n",
    "            It cleans up all used memory after it returns.\n",
    "            \"\"\"\n",
    "            return list(range(number))\n",
    "\n",
    "        data = []                                               #9\n",
    "\n",
    "        def grow(number):\n",
    "            \"\"\"Function with side effects on global list.\n",
    "            \"\"\"\n",
    "            for x in range(number):\n",
    "                data.append(x)                                  #10\n",
    "        size = int(1e6)\n",
    "        print('memory make_big:', check_memory_growth(make_big,\n",
    "                                                      size))     #11\n",
    "        print('memory grow:', check_memory_growth(grow, size))   #12\n",
    "\n",
    "    test()\n"
   ]
  },
  {
   "cell_type": "code",
   "execution_count": 148,
   "metadata": {},
   "outputs": [],
   "source": [
    "# %load pympler_list_growth.py\n",
    "# file: pympler_list_growth.py\n",
    "\n",
    "\"\"\"Measure the size of a list as it grows.\n",
    "\"\"\"\n",
    "from __future__ import print_function\n",
    "\n",
    "import sys\n",
    "\n",
    "from pympler.asizeof import asizeof, flatsize\n",
    "\n",
    "\n",
    "if sys.version_info.major < 3:\n",
    "    range = xrange\n",
    "\n",
    "\n",
    "def list_mem(length, size_func=flatsize):\n",
    "    \"\"\"Measure incremental memory increase of a growing list.\n",
    "    \"\"\"\n",
    "    my_list = []\n",
    "    mem = [size_func(my_list)]\n",
    "    for elem in range(length):\n",
    "        my_list.append(elem)\n",
    "        mem.append(size_func(my_list))\n",
    "    return mem\n",
    "\n",
    "\n",
    "if __name__ == '__main__':\n",
    "\n",
    "    def main():\n",
    "        \"\"\"Show plot or numbers.\n",
    "        \"\"\"\n",
    "        SIZE = 1000\n",
    "        SHOW = 20\n",
    "\n",
    "        for func in [flatsize, asizeof, sys.getsizeof]:\n",
    "            mem = list_mem(SIZE, size_func=func)\n",
    "            try:\n",
    "                from matplotlib import pylab\n",
    "                pylab.plot(mem)\n",
    "                pylab.show()\n",
    "            except ImportError:\n",
    "                print('matplotlib seems not be installed. Skipping the plot.')\n",
    "                if SIZE > SHOW:\n",
    "                    limit = SHOW // 2\n",
    "                    print(mem[:limit],\n",
    "                          '... skipping %d elements ...' % (SIZE - SHOW),\n",
    "                          end='')\n",
    "                    print(mem[-limit:])\n",
    "                else:\n",
    "                    print(mem)\n"
   ]
  },
  {
   "cell_type": "code",
   "execution_count": 150,
   "metadata": {},
   "outputs": [],
   "source": [
    "%matplotlib inline"
   ]
  },
  {
   "cell_type": "code",
   "execution_count": 151,
   "metadata": {},
   "outputs": [
    {
     "data": {
      "image/png": "[encoded data removed]",
      "text/plain": [
       "<Figure size 432x288 with 1 Axes>"
      ]
     },
     "metadata": {},
     "output_type": "display_data"
    },
    {
     "data": {
      "image/png": "[encoded data removed]",
      "text/plain": [
       "<Figure size 432x288 with 1 Axes>"
      ]
     },
     "metadata": {},
     "output_type": "display_data"
    },
    {
     "data": {
      "image/png": "[encoded data removed]",
      "text/plain": [
       "<Figure size 432x288 with 1 Axes>"
      ]
     },
     "metadata": {},
     "output_type": "display_data"
    }
   ],
   "source": [
    "main()"
   ]
  },
  {
   "cell_type": "code",
   "execution_count": 153,
   "metadata": {},
   "outputs": [
    {
     "name": "stdout",
     "output_type": "stream",
     "text": [
      "Using sys.getsizeof:\n",
      "        10:   3\n",
      "       100:  10\n",
      "      1000:  27\n",
      "     10000:  46\n",
      "    100000:  65\n",
      "   1000000:  85\n",
      "  10000000: 104\n",
      "Using pympler.asizeof.flatsize:\n",
      "        10:   3\n",
      "       100:  10\n",
      "      1000:  27\n",
      "     10000:  46\n",
      "    100000:  65\n",
      "   1000000:  85\n",
      "  10000000: 104\n"
     ]
    }
   ],
   "source": [
    "# %load list_alloc_steps.py\n",
    "# file: list_alloc_steps.py\n",
    "\n",
    "\"\"\"Measure the number of memory allocation steps for a list.\n",
    "\"\"\"\n",
    "from __future__ import print_function\n",
    "\n",
    "import sys\n",
    "\n",
    "if sys.version_info.major < 3:\n",
    "    range = xrange\n",
    "\n",
    "from pympler.asizeof import flatsize\n",
    "\n",
    "\n",
    "def list_steps(lenght, size_func=sys.getsizeof):\n",
    "    \"\"\"Measure the number of memory alloaction steps for a list.\n",
    "    \"\"\"\n",
    "    my_list = []\n",
    "    steps = 0\n",
    "    int_size = size_func(int())\n",
    "    old_size = size_func(my_list)\n",
    "    for elem in range(lenght):\n",
    "        my_list.append(elem)\n",
    "        new_size = sys.getsizeof(my_list)\n",
    "        if new_size - old_size > int_size:\n",
    "            steps += 1\n",
    "        old_size = new_size\n",
    "    return steps\n",
    "\n",
    "\n",
    "if __name__ == '__main__':\n",
    "    steps = [10, 100, 1000, 10000, int(1e5), int(1e6), int(1e7)]\n",
    "    print('Using sys.getsizeof:')\n",
    "    for size in steps:\n",
    "        print('%10d: %3d' % (size, list_steps(size)))\n",
    "    print('Using pympler.asizeof.flatsize:')\n",
    "    for size in steps:\n",
    "        print('%10d: %3d' % (size, list_steps(size, flatsize)))\n"
   ]
  },
  {
   "cell_type": "markdown",
   "metadata": {},
   "source": [
    "## Memory Line-by-line"
   ]
  },
  {
   "cell_type": "code",
   "execution_count": 155,
   "metadata": {
    "scrolled": true
   },
   "outputs": [
    {
     "ename": "TypeError",
     "evalue": "profile() takes 0 positional arguments but 1 was given",
     "output_type": "error",
     "traceback": [
      "\u001b[0;31m---------------------------------------------------------------------------\u001b[0m",
      "\u001b[0;31mTypeError\u001b[0m                                 Traceback (most recent call last)",
      "\u001b[0;32m<ipython-input-155-c368c9527a0e>\u001b[0m in \u001b[0;36m<module>\u001b[0;34m()\u001b[0m\n\u001b[1;32m     10\u001b[0m \u001b[0;34m\u001b[0m\u001b[0m\n\u001b[1;32m     11\u001b[0m \u001b[0;34m\u001b[0m\u001b[0m\n\u001b[0;32m---> 12\u001b[0;31m \u001b[0;34m@\u001b[0m\u001b[0mprofile\u001b[0m\u001b[0;34m\u001b[0m\u001b[0m\n\u001b[0m\u001b[1;32m     13\u001b[0m \u001b[0;32mdef\u001b[0m \u001b[0muse_mem\u001b[0m\u001b[0;34m(\u001b[0m\u001b[0mnumbers\u001b[0m\u001b[0;34m)\u001b[0m\u001b[0;34m:\u001b[0m\u001b[0;34m\u001b[0m\u001b[0m\n\u001b[1;32m     14\u001b[0m     \"\"\"Different ways to use up memory.\n",
      "\u001b[0;31mTypeError\u001b[0m: profile() takes 0 positional arguments but 1 was given"
     ]
    }
   ],
   "source": [
    "# %load use_mem.py\n",
    "# file: use_mem.py\n",
    "\n",
    "import random\n",
    "import sys\n",
    "\n",
    "# Make it work with Python 2 and Python 3.\n",
    "if sys.version_info.major < 3:\n",
    "    range = xrange\n",
    "\n",
    "\n",
    "@profile\n",
    "def use_mem(numbers):\n",
    "    \"\"\"Different ways to use up memory.\n",
    "    \"\"\"\n",
    "    a = sum([x * x for x in numbers])\n",
    "    b = sum(x * x for x in numbers)\n",
    "    c = sum(x * x for x in numbers)\n",
    "    squares = [x * x for x in numbers]\n",
    "    d = sum(squares)\n",
    "    del squares\n",
    "    x = 'a' * int(1e6)\n",
    "    del x\n",
    "    return 42\n",
    "\n",
    "\n",
    "if __name__ == '__main__':\n",
    "\n",
    "    numbers = [random.random() for x in range(int(1e6))]\n",
    "    use_mem(numbers)"
   ]
  },
  {
   "cell_type": "code",
   "execution_count": 158,
   "metadata": {},
   "outputs": [],
   "source": [
    "# python -m memory_profiler use_mem.py\n",
    "# takes a while\n",
    "# output:"
   ]
  },
  {
   "cell_type": "markdown",
   "metadata": {},
   "source": [
    "```\n",
    "Line #    Mem usage    Increment   Line Contents\n",
    "================================================\n",
    "    11   63.535 MiB   63.535 MiB   @profile\n",
    "    12                             def use_mem(numbers):\n",
    "    13                                 \"\"\"Different ways to use up memory.\n",
    "    14                                 \"\"\"\n",
    "    15   94.422 MiB    0.266 MiB       a = sum([x * x for x in numbers])\n",
    "    16   63.801 MiB  -30.621 MiB       b = sum(x * x for x in numbers)\n",
    "    17   63.801 MiB    0.000 MiB       c = sum(x * x for x in numbers)\n",
    "    18   93.703 MiB   29.902 MiB       squares = [x * x for x in numbers]\n",
    "    19   93.703 MiB    0.000 MiB       d = sum(squares)\n",
    "    20   70.988 MiB  -22.715 MiB       del squares\n",
    "    21   70.988 MiB    0.000 MiB       x = 'a' * int(1e6)\n",
    "    22   70.988 MiB    0.000 MiB       del x\n",
    "    23   70.988 MiB    0.000 MiB       return 42\n",
    "\n",
    "```"
   ]
  },
  {
   "cell_type": "code",
   "execution_count": null,
   "metadata": {},
   "outputs": [],
   "source": []
  }
 ],
 "metadata": {
  "kernelspec": {
   "display_name": "Python 3",
   "language": "python",
   "name": "python3"
  },
  "language_info": {
   "codemirror_mode": {
    "name": "ipython",
    "version": 3
   },
   "file_extension": ".py",
   "mimetype": "text/x-python",
   "name": "python",
   "nbconvert_exporter": "python",
   "pygments_lexer": "ipython3",
   "version": "3.6.5"
  }
 },
 "nbformat": 4,
 "nbformat_minor": 2
}
