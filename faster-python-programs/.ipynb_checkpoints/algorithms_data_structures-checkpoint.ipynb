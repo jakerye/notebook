{
 "cells": [
  {
   "cell_type": "markdown",
   "metadata": {},
   "source": [
    "# String Concatenation"
   ]
  },
  {
   "cell_type": "code",
   "execution_count": 6,
   "metadata": {},
   "outputs": [
    {
     "name": "stdout",
     "output_type": "stream",
     "text": [
      "224 ms ± 2.88 ms per loop (mean ± std. dev. of 7 runs, 1 loop each)\n"
     ]
    }
   ],
   "source": [
    "%%timeit\n",
    "s = ''\n",
    "n = 10 ** 6\n",
    "for x in range(n):\n",
    "    s += str(n)\n",
    "# += is not efficient"
   ]
  },
  {
   "cell_type": "code",
   "execution_count": 7,
   "metadata": {},
   "outputs": [
    {
     "name": "stdout",
     "output_type": "stream",
     "text": [
      "250 ms ± 5.33 ms per loop (mean ± std. dev. of 7 runs, 1 loop each)\n"
     ]
    }
   ],
   "source": [
    "%%timeit\n",
    "L = []\n",
    "for x in range(n):\n",
    "    L.append(str(n))\n",
    "s2 = ''.join(L)\n",
    "# append is efficient...supposedly"
   ]
  },
  {
   "cell_type": "markdown",
   "metadata": {},
   "source": [
    "# Lazy"
   ]
  },
  {
   "cell_type": "code",
   "execution_count": 10,
   "metadata": {},
   "outputs": [
    {
     "name": "stdout",
     "output_type": "stream",
     "text": [
      "64.3 ms ± 676 µs per loop (mean ± std. dev. of 7 runs, 10 loops each)\n"
     ]
    }
   ],
   "source": [
    "%%timeit\n",
    "sum([x * x for x in range(n)])"
   ]
  },
  {
   "cell_type": "code",
   "execution_count": 11,
   "metadata": {},
   "outputs": [
    {
     "name": "stdout",
     "output_type": "stream",
     "text": [
      "60.6 ms ± 849 µs per loop (mean ± std. dev. of 7 runs, 10 loops each)\n"
     ]
    }
   ],
   "source": [
    "%%timeit\n",
    "sum(x * x for x in range(n))\n",
    "# this is slightly faster\n",
    "# general expression in python3"
   ]
  },
  {
   "cell_type": "markdown",
   "metadata": {},
   "source": [
    "# Scope"
   ]
  },
  {
   "cell_type": "code",
   "execution_count": 12,
   "metadata": {},
   "outputs": [
    {
     "name": "stdout",
     "output_type": "stream",
     "text": [
      "/home/jake/projects/notebook/faster-python-programs/source/optimizing/algorithms\n"
     ]
    }
   ],
   "source": [
    "cd source/optimizing/algorithms/"
   ]
  },
  {
   "cell_type": "code",
   "execution_count": 13,
   "metadata": {},
   "outputs": [
    {
     "name": "stdout",
     "output_type": "stream",
     "text": [
      "local_builtin.py  local_global.py\r\n"
     ]
    }
   ],
   "source": [
    "ls"
   ]
  },
  {
   "cell_type": "code",
   "execution_count": 15,
   "metadata": {},
   "outputs": [
    {
     "name": "stdout",
     "output_type": "stream",
     "text": [
      "         6 function calls in 4.078 seconds\n",
      "\n",
      "   Ordered by: standard name\n",
      "\n",
      "   ncalls  tottime  percall  cumtime  percall filename:lineno(function)\n",
      "        1    2.464    2.464    2.464    2.464 <ipython-input-15-16a1aec43683>:15(repeat)\n",
      "        1    1.614    1.614    1.614    1.614 <ipython-input-15-16a1aec43683>:22(repeat_local)\n",
      "        1    0.000    0.000    4.078    4.078 <ipython-input-15-16a1aec43683>:30(test)\n",
      "        1    0.000    0.000    4.078    4.078 <string>:1(<module>)\n",
      "        1    0.000    0.000    4.078    4.078 {built-in method builtins.exec}\n",
      "        1    0.000    0.000    0.000    0.000 {method 'disable' of '_lsprof.Profiler' objects}\n",
      "\n",
      "\n"
     ]
    }
   ],
   "source": [
    "# %load local_global.py\n",
    "# file: local_global.py\n",
    "\n",
    "\"\"\"Local vs. built-in.\n",
    "\"\"\"\n",
    "\n",
    "import sys\n",
    "\n",
    "if sys.version_info.major < 3:\n",
    "    range = xrange\n",
    "\n",
    "GLOBAL = 1\n",
    "\n",
    "\n",
    "def repeat(counter):\n",
    "    \"\"\"Using the GLOBAL value directly.\n",
    "    \"\"\"\n",
    "    for count in range(counter):\n",
    "        GLOBAL\n",
    "\n",
    "\n",
    "def repeat_local(counter):\n",
    "    \"\"\"Making GLOBAL a local variable.\n",
    "    \"\"\"\n",
    "    local = GLOBAL\n",
    "    for count in range(counter):\n",
    "        local\n",
    "\n",
    "\n",
    "def test(counter):\n",
    "    \"\"\"Call both functions.\n",
    "    \"\"\"\n",
    "    repeat(counter)\n",
    "    repeat_local(counter)\n",
    "\n",
    "\n",
    "if __name__ == '__main__':\n",
    "\n",
    "    def do_profile():\n",
    "        \"\"\"Check the run times.\n",
    "        \"\"\"\n",
    "        import cProfile\n",
    "        profiler = cProfile.Profile()\n",
    "        profiler.run('test(int(1e8))')\n",
    "        profiler.print_stats()\n",
    "\n",
    "    do_profile()\n"
   ]
  },
  {
   "cell_type": "code",
   "execution_count": 17,
   "metadata": {},
   "outputs": [
    {
     "name": "stdout",
     "output_type": "stream",
     "text": [
      "         6 function calls in 4.151 seconds\n",
      "\n",
      "   Ordered by: standard name\n",
      "\n",
      "   ncalls  tottime  percall  cumtime  percall filename:lineno(function)\n",
      "        1    2.505    2.505    2.505    2.505 <ipython-input-17-5364a68f1672>:11(repeat)\n",
      "        1    1.645    1.645    1.645    1.645 <ipython-input-17-5364a68f1672>:18(repeat_local)\n",
      "        1    0.000    0.000    4.151    4.151 <ipython-input-17-5364a68f1672>:26(test)\n",
      "        1    0.000    0.000    4.151    4.151 <string>:1(<module>)\n",
      "        1    0.000    0.000    4.151    4.151 {built-in method builtins.exec}\n",
      "        1    0.000    0.000    0.000    0.000 {method 'disable' of '_lsprof.Profiler' objects}\n",
      "\n",
      "\n"
     ]
    }
   ],
   "source": [
    "# %load local_builtin.py\n",
    "\"\"\"Local vs. built-in.\n",
    "\"\"\"\n",
    "\n",
    "import sys\n",
    "\n",
    "if sys.version_info.major < 3:\n",
    "    range = xrange\n",
    "\n",
    "\n",
    "def repeat(counter):\n",
    "    \"\"\"Using the built-in `sum` in a loop.\n",
    "    \"\"\"\n",
    "    for count in range(counter):\n",
    "        sum\n",
    "\n",
    "\n",
    "def repeat_local(counter):\n",
    "    \"\"\"Making `sum` a local variable.\n",
    "    \"\"\"\n",
    "    sum_ = sum\n",
    "    for count in range(counter):\n",
    "        sum_\n",
    "\n",
    "\n",
    "def test(counter):\n",
    "    \"\"\"Call both functions.\n",
    "    \"\"\"\n",
    "    repeat(counter)\n",
    "    repeat_local(counter)\n",
    "\n",
    "\n",
    "if __name__ == '__main__':\n",
    "\n",
    "    def do_profile():\n",
    "        \"\"\"Check the run times.\n",
    "        \"\"\"\n",
    "        import cProfile\n",
    "        profiler = cProfile.Profile()\n",
    "        profiler.run('test(int(1e8))')\n",
    "        profiler.print_stats()\n",
    "\n",
    "    do_profile()\n"
   ]
  },
  {
   "cell_type": "markdown",
   "metadata": {},
   "source": [
    "# List vs. Set"
   ]
  },
  {
   "cell_type": "code",
   "execution_count": 18,
   "metadata": {},
   "outputs": [
    {
     "name": "stdout",
     "output_type": "stream",
     "text": [
      "/home/jake/projects/notebook/faster-python-programs/source/optimizing/datastructure\n"
     ]
    }
   ],
   "source": [
    "cd ../datastructure/"
   ]
  },
  {
   "cell_type": "code",
   "execution_count": 19,
   "metadata": {},
   "outputs": [
    {
     "name": "stdout",
     "output_type": "stream",
     "text": [
      "insert_zero_append_reverse.py  searching_creation.py  searching_repeated.py\r\n",
      "intersect_magic.py             searching_magic.py     setdefault_defaultdict.py\r\n",
      "intersect.py                   searching_multiple.py\r\n",
      "list_deque.py                  searching.py\r\n"
     ]
    }
   ],
   "source": [
    "ls"
   ]
  },
  {
   "cell_type": "code",
   "execution_count": 21,
   "metadata": {},
   "outputs": [
    {
     "name": "stdout",
     "output_type": "stream",
     "text": [
      "\n",
      "===========================================\n",
      "Single run\n",
      "===========================================\n",
      "      Size      List       Set        Ratio\n",
      "-------------------------------------------\n",
      "        10  1.10e-06  4.00e-07         2.74\n",
      "       100  3.22e-06  3.08e-07        10.46\n",
      "     1,000  2.03e-05  3.15e-07        64.33\n",
      "    10,000  1.57e-04  4.13e-07       379.41\n",
      "   100,000  1.54e-03  1.29e-06     1,196.93\n",
      " 1,000,000  9.64e-03  7.37e-07    13,083.26\n",
      "10,000,000  8.33e-02  1.08e-06    76,871.16\n",
      "===========================================\n"
     ]
    }
   ],
   "source": [
    "# %load searching.py\n",
    "# file: searching.py\n",
    "\"\"\"Measuring the time for searching in a list and a set.\n",
    "\"\"\"\n",
    "\n",
    "import timeit\n",
    "\n",
    "\n",
    "def search_list(n):\n",
    "    \"\"\"\n",
    "    Search for element that is not in a list.\n",
    "    \"\"\"\n",
    "    my_list = list(range(n))\n",
    "    start = timeit.default_timer()\n",
    "    n in my_list  # pylint: disable=pointless-statement\n",
    "    return timeit.default_timer() - start\n",
    "\n",
    "\n",
    "def search_set(n):\n",
    "    \"\"\"Search for an element in a set.\n",
    "    \"\"\"\n",
    "    my_set = set(range(n))\n",
    "    start = timeit.default_timer()\n",
    "    n in my_set  # pylint: disable=pointless-statement\n",
    "    return timeit.default_timer() - start\n",
    "\n",
    "\n",
    "def calculate_ratio(n):\n",
    "    \"\"\"Calculate the ratio between a search in a list and a set.\n",
    "    \"\"\"\n",
    "    list_time = search_list(n)\n",
    "    set_time = search_set(n)\n",
    "    return list_time, set_time, list_time / set_time\n",
    "\n",
    "\n",
    "def compare(end=8, func=calculate_ratio, header='', col1='List', col2='Set'):\n",
    "    \"\"\"Show the results.\n",
    "    \"\"\"\n",
    "    table_width = 43\n",
    "    print()\n",
    "    if header:\n",
    "        print('=' * table_width)\n",
    "        print(header)\n",
    "        print('=' * table_width)\n",
    "    width = end + end // 3\n",
    "    print('{:>{width}s} {:>9s} {:>9s} {:>12s}'.format(\n",
    "        'Size', col1, col2, 'Ratio', width=width))\n",
    "    print('-' * table_width)\n",
    "    fmt = '{count:{width},d} {list_time:9.2e} {set_time:9.2e} {ratio:12,.2f}'\n",
    "    for n in range(1, end):\n",
    "        count = 10 ** n\n",
    "        list_time, set_time, ratio = func(count)\n",
    "\n",
    "        print(fmt.format(count=count, ratio=ratio, list_time=list_time,\n",
    "                         set_time=set_time, width=width))\n",
    "    print('=' * table_width)\n",
    "\n",
    "\n",
    "if __name__ == '__main__':\n",
    "    compare(header='Single run')\n"
   ]
  },
  {
   "cell_type": "code",
   "execution_count": 29,
   "metadata": {},
   "outputs": [
    {
     "name": "stdout",
     "output_type": "stream",
     "text": [
      "\n",
      "===========================================\n",
      "Multiple runs\n",
      "===========================================\n",
      "      Size      List       Set        Ratio\n",
      "-------------------------------------------\n"
     ]
    },
    {
     "ename": "KeyboardInterrupt",
     "evalue": "",
     "output_type": "error",
     "traceback": [
      "\u001b[0;31m---------------------------------------------------------------------------\u001b[0m",
      "\u001b[0;31mKeyboardInterrupt\u001b[0m                         Traceback (most recent call last)",
      "\u001b[0;32m<ipython-input-29-8780098ea84c>\u001b[0m in \u001b[0;36m<module>\u001b[0;34m()\u001b[0m\n\u001b[1;32m     39\u001b[0m \u001b[0;32mif\u001b[0m \u001b[0m__name__\u001b[0m \u001b[0;34m==\u001b[0m \u001b[0;34m'__main__'\u001b[0m\u001b[0;34m:\u001b[0m\u001b[0;34m\u001b[0m\u001b[0m\n\u001b[1;32m     40\u001b[0m \u001b[0;34m\u001b[0m\u001b[0m\n\u001b[0;32m---> 41\u001b[0;31m     \u001b[0mcompare\u001b[0m\u001b[0;34m(\u001b[0m\u001b[0mfunc\u001b[0m\u001b[0;34m=\u001b[0m\u001b[0mcalculate_ratio_mutiple\u001b[0m\u001b[0;34m,\u001b[0m \u001b[0mheader\u001b[0m\u001b[0;34m=\u001b[0m\u001b[0;34m'Multiple runs'\u001b[0m\u001b[0;34m)\u001b[0m\u001b[0;34m\u001b[0m\u001b[0m\n\u001b[0m",
      "\u001b[0;32m~/projects/notebook/faster-python-programs/source/optimizing/datastructure/searching.py\u001b[0m in \u001b[0;36mcompare\u001b[0;34m(end, func, header, col1, col2)\u001b[0m\n\u001b[1;32m     49\u001b[0m     \u001b[0;32mfor\u001b[0m \u001b[0mn\u001b[0m \u001b[0;32min\u001b[0m \u001b[0mrange\u001b[0m\u001b[0;34m(\u001b[0m\u001b[0;36m1\u001b[0m\u001b[0;34m,\u001b[0m \u001b[0mend\u001b[0m\u001b[0;34m)\u001b[0m\u001b[0;34m:\u001b[0m\u001b[0;34m\u001b[0m\u001b[0m\n\u001b[1;32m     50\u001b[0m         \u001b[0mcount\u001b[0m \u001b[0;34m=\u001b[0m \u001b[0;36m10\u001b[0m \u001b[0;34m**\u001b[0m \u001b[0mn\u001b[0m\u001b[0;34m\u001b[0m\u001b[0m\n\u001b[0;32m---> 51\u001b[0;31m         \u001b[0mlist_time\u001b[0m\u001b[0;34m,\u001b[0m \u001b[0mset_time\u001b[0m\u001b[0;34m,\u001b[0m \u001b[0mratio\u001b[0m \u001b[0;34m=\u001b[0m \u001b[0mfunc\u001b[0m\u001b[0;34m(\u001b[0m\u001b[0mcount\u001b[0m\u001b[0;34m)\u001b[0m\u001b[0;34m\u001b[0m\u001b[0m\n\u001b[0m\u001b[1;32m     52\u001b[0m \u001b[0;34m\u001b[0m\u001b[0m\n\u001b[1;32m     53\u001b[0m         print(fmt.format(count=count, ratio=ratio, list_time=list_time,\n",
      "\u001b[0;32m<ipython-input-29-8780098ea84c>\u001b[0m in \u001b[0;36mcalculate_ratio_mutiple\u001b[0;34m(n)\u001b[0m\n\u001b[1;32m     33\u001b[0m     \u001b[0mmy_set\u001b[0m \u001b[0;34m=\u001b[0m \u001b[0mset\u001b[0m\u001b[0;34m(\u001b[0m\u001b[0mrange\u001b[0m\u001b[0;34m(\u001b[0m\u001b[0mn\u001b[0m\u001b[0;34m)\u001b[0m\u001b[0;34m)\u001b[0m\u001b[0;34m\u001b[0m\u001b[0m\n\u001b[1;32m     34\u001b[0m     \u001b[0mlist_time\u001b[0m \u001b[0;34m=\u001b[0m \u001b[0msearch_multiple\u001b[0m\u001b[0;34m(\u001b[0m\u001b[0mmy_list\u001b[0m\u001b[0;34m,\u001b[0m \u001b[0mn\u001b[0m\u001b[0;34m)\u001b[0m\u001b[0;34m\u001b[0m\u001b[0m\n\u001b[0;32m---> 35\u001b[0;31m     \u001b[0mset_time\u001b[0m \u001b[0;34m=\u001b[0m \u001b[0msearch_multiple\u001b[0m\u001b[0;34m(\u001b[0m\u001b[0mmy_set\u001b[0m\u001b[0;34m,\u001b[0m \u001b[0mn\u001b[0m\u001b[0;34m)\u001b[0m\u001b[0;34m\u001b[0m\u001b[0m\n\u001b[0m\u001b[1;32m     36\u001b[0m     \u001b[0;32mreturn\u001b[0m \u001b[0mlist_time\u001b[0m\u001b[0;34m,\u001b[0m \u001b[0mset_time\u001b[0m\u001b[0;34m,\u001b[0m \u001b[0mlist_time\u001b[0m \u001b[0;34m/\u001b[0m \u001b[0mset_time\u001b[0m\u001b[0;34m\u001b[0m\u001b[0m\n\u001b[1;32m     37\u001b[0m \u001b[0;34m\u001b[0m\u001b[0m\n",
      "\u001b[0;32m<ipython-input-29-8780098ea84c>\u001b[0m in \u001b[0;36msearch_multiple\u001b[0;34m(obj, n, repeat)\u001b[0m\n\u001b[1;32m     22\u001b[0m             \u001b[0mn\u001b[0m \u001b[0;32min\u001b[0m \u001b[0mobj\u001b[0m  \u001b[0;31m# pylint: disable=pointless-statement\u001b[0m\u001b[0;34m\u001b[0m\u001b[0m\n\u001b[1;32m     23\u001b[0m             \u001b[0mduration\u001b[0m \u001b[0;34m+=\u001b[0m \u001b[0mtimeit\u001b[0m\u001b[0;34m.\u001b[0m\u001b[0mdefault_timer\u001b[0m\u001b[0;34m(\u001b[0m\u001b[0;34m)\u001b[0m \u001b[0;34m-\u001b[0m \u001b[0mstart\u001b[0m\u001b[0;34m\u001b[0m\u001b[0m\n\u001b[0;32m---> 24\u001b[0;31m             \u001b[0mcount\u001b[0m \u001b[0;34m+=\u001b[0m \u001b[0;36m1\u001b[0m\u001b[0;34m\u001b[0m\u001b[0m\n\u001b[0m\u001b[1;32m     25\u001b[0m         \u001b[0mres\u001b[0m\u001b[0;34m.\u001b[0m\u001b[0mappend\u001b[0m\u001b[0;34m(\u001b[0m\u001b[0mduration\u001b[0m \u001b[0;34m/\u001b[0m \u001b[0mcount\u001b[0m\u001b[0;34m)\u001b[0m\u001b[0;34m\u001b[0m\u001b[0m\n\u001b[1;32m     26\u001b[0m     \u001b[0;32mreturn\u001b[0m \u001b[0mmean\u001b[0m\u001b[0;34m(\u001b[0m\u001b[0mres\u001b[0m\u001b[0;34m)\u001b[0m\u001b[0;34m\u001b[0m\u001b[0m\n",
      "\u001b[0;31mKeyboardInterrupt\u001b[0m: "
     ]
    }
   ],
   "source": [
    "# %load searching_multiple.py\n",
    "# file: searching_multiple.py\n",
    "\"\"\"\n",
    "Measuring the time for searching in a list and a set multiple times.\n",
    "\"\"\"\n",
    "\n",
    "from statistics import mean\n",
    "import timeit\n",
    "\n",
    "from searching import compare\n",
    "\n",
    "\n",
    "def search_multiple(obj, n, repeat=7):\n",
    "    \"\"\"Search `repeat` times for at least 1 second.\n",
    "    \"\"\"\n",
    "    res = []\n",
    "    for _ in range(repeat):\n",
    "        count = 0\n",
    "        duration = 0\n",
    "        while duration < 1:\n",
    "            start = timeit.default_timer()\n",
    "            n in obj  # pylint: disable=pointless-statement\n",
    "            duration += timeit.default_timer() - start\n",
    "            count += 1\n",
    "        res.append(duration / count)\n",
    "    return mean(res)\n",
    "\n",
    "\n",
    "def calculate_ratio_mutiple(n):\n",
    "    \"\"\"Calculate the ratio between a search in a list and a set.\n",
    "    \"\"\"\n",
    "    my_list = list(range(n))\n",
    "    my_set = set(range(n))\n",
    "    list_time = search_multiple(my_list, n)\n",
    "    set_time = search_multiple(my_set, n)\n",
    "    return list_time, set_time, list_time / set_time\n",
    "\n",
    "\n",
    "if __name__ == '__main__':\n",
    "\n",
    "    compare(func=calculate_ratio_mutiple, header='Multiple runs')\n"
   ]
  },
  {
   "cell_type": "code",
   "execution_count": 27,
   "metadata": {},
   "outputs": [
    {
     "name": "stdout",
     "output_type": "stream",
     "text": [
      "\n",
      "===========================================\n",
      "Magic timeit\n",
      "===========================================\n",
      "      Size      List       Set        Ratio\n",
      "-------------------------------------------\n",
      "\u001b]0;IPython: optimizing/datastructure\u0007\u001b]0;IPython: optimizing/datastructure\u0007        10  1.08e-07  2.01e-08         5.40\n",
      "\u001b]0;IPython: optimizing/datastructure\u0007\u001b]0;IPython: optimizing/datastructure\u0007       100  9.51e-07  2.13e-08        44.58\n",
      "\u001b]0;IPython: optimizing/datastructure\u0007\u001b]0;IPython: optimizing/datastructure\u0007     1,000  9.43e-06  2.03e-08       463.65\n",
      "\u001b]0;IPython: optimizing/datastructure\u0007\u001b]0;IPython: optimizing/datastructure\u0007    10,000  9.56e-05  2.04e-08     4,689.33\n",
      "\u001b]0;IPython: optimizing/datastructure\u0007\u001b]0;IPython: optimizing/datastructure\u0007   100,000  9.54e-04  2.05e-08    46,644.46\n",
      "\u001b]0;IPython: optimizing/datastructure\u0007\u001b]0;IPython: optimizing/datastructure\u0007 1,000,000  9.64e-03  2.05e-08   471,117.04\n",
      "\u001b]0;IPython: optimizing/datastructure\u0007\u001b]0;IPython: optimizing/datastructure\u000710,000,000  9.73e-02  2.06e-08 4,728,423.15\n",
      "===========================================\n"
     ]
    }
   ],
   "source": [
    "# %load searching_magic.py\n",
    "# file: searching_magic.py\n",
    "\"\"\"\n",
    "Measuring the time for searching in a list and a set with IPythom %timeit.\n",
    "\"\"\"\n",
    "\n",
    "from IPython.terminal.interactiveshell import TerminalInteractiveShell\n",
    "\n",
    "from searching import compare\n",
    "\n",
    "\n",
    "def timeit_magic(n, setup, statement):\n",
    "    \"\"\"Create a `%timeit` magic function with fixed `n`,\n",
    "    more setup code and the statement to be timed.\n",
    "    \"\"\"\n",
    "    return TerminalInteractiveShell().run_cell_magic(\n",
    "        'timeit', '-o -q n = {n}; '.format(n=n) + setup, statement)\n",
    "\n",
    "\n",
    "def search_list(n):\n",
    "    \"\"\"\n",
    "    Search for last element in a list.\n",
    "    \"\"\"\n",
    "    setup = 'my_list = list(range(n))'\n",
    "    statement = 'n in my_list'\n",
    "    return timeit_magic(n, setup, statement)\n",
    "\n",
    "\n",
    "def search_set(n):\n",
    "    \"\"\"Search for an element in a set.\n",
    "    \"\"\"\n",
    "    setup = 'my_set = set(range(n))'\n",
    "    statement = 'n in my_set'\n",
    "    return timeit_magic(n, setup, statement)\n",
    "\n",
    "\n",
    "def calculate_ratio(n, search_list=search_list, search_set=search_set):\n",
    "    \"\"\"Calculate the ratio between a search in a list and a set.\n",
    "    \"\"\"\n",
    "    list_time = search_list(n).average\n",
    "    set_time = search_set(n).average\n",
    "    return list_time, set_time, list_time / set_time\n",
    "\n",
    "\n",
    "if __name__ == '__main__':\n",
    "    compare(func=calculate_ratio, header='Magic timeit')\n"
   ]
  },
  {
   "cell_type": "code",
   "execution_count": 28,
   "metadata": {},
   "outputs": [],
   "source": [
    "# Note: ^interrupted kernal b/c was taking a while (to be expected)"
   ]
  },
  {
   "cell_type": "code",
   "execution_count": 31,
   "metadata": {
    "scrolled": true
   },
   "outputs": [
    {
     "name": "stdout",
     "output_type": "stream",
     "text": [
      "\n",
      "===========================================\n",
      "Measure creation\n",
      "===========================================\n",
      "      Size      List       Set        Ratio\n",
      "-------------------------------------------\n",
      "\u001b]0;IPython: optimizing/datastructure\u0007\u001b]0;IPython: optimizing/datastructure\u0007        10  1.03e-07  2.70e-07         0.38\n",
      "\u001b]0;IPython: optimizing/datastructure\u0007\u001b]0;IPython: optimizing/datastructure\u0007       100  1.03e-06  1.66e-06         0.62\n",
      "\u001b]0;IPython: optimizing/datastructure\u0007\u001b]0;IPython: optimizing/datastructure\u0007     1,000  9.73e-06  1.20e-05         0.81\n",
      "\u001b]0;IPython: optimizing/datastructure\u0007\u001b]0;IPython: optimizing/datastructure\u0007"
     ]
    },
    {
     "ename": "KeyboardInterrupt",
     "evalue": "",
     "output_type": "error",
     "traceback": [
      "\u001b[0;31m---------------------------------------------------------------------------\u001b[0m",
      "\u001b[0;31mKeyboardInterrupt\u001b[0m                         Traceback (most recent call last)",
      "\u001b[0;32m<ipython-input-31-0ebe5aa116ae>\u001b[0m in \u001b[0;36m<module>\u001b[0;34m()\u001b[0m\n\u001b[1;32m     33\u001b[0m \u001b[0;34m\u001b[0m\u001b[0m\n\u001b[1;32m     34\u001b[0m \u001b[0;32mif\u001b[0m \u001b[0m__name__\u001b[0m \u001b[0;34m==\u001b[0m \u001b[0;34m'__main__'\u001b[0m\u001b[0;34m:\u001b[0m\u001b[0;34m\u001b[0m\u001b[0m\n\u001b[0;32m---> 35\u001b[0;31m     \u001b[0mmain\u001b[0m\u001b[0;34m(\u001b[0m\u001b[0;34m)\u001b[0m\u001b[0;34m\u001b[0m\u001b[0m\n\u001b[0m",
      "\u001b[0;32m<ipython-input-31-0ebe5aa116ae>\u001b[0m in \u001b[0;36mmain\u001b[0;34m()\u001b[0m\n\u001b[1;32m     29\u001b[0m     \"\"\"\n\u001b[1;32m     30\u001b[0m     \u001b[0mfunc\u001b[0m \u001b[0;34m=\u001b[0m \u001b[0mpartial\u001b[0m\u001b[0;34m(\u001b[0m\u001b[0mcalculate_ratio\u001b[0m\u001b[0;34m,\u001b[0m \u001b[0msearch_set\u001b[0m\u001b[0;34m=\u001b[0m\u001b[0msearch_set\u001b[0m\u001b[0;34m)\u001b[0m\u001b[0;34m\u001b[0m\u001b[0m\n\u001b[0;32m---> 31\u001b[0;31m     \u001b[0mcompare\u001b[0m\u001b[0;34m(\u001b[0m\u001b[0mfunc\u001b[0m\u001b[0;34m=\u001b[0m\u001b[0mfunc\u001b[0m\u001b[0;34m,\u001b[0m \u001b[0mheader\u001b[0m\u001b[0;34m=\u001b[0m\u001b[0;34m'Measure creation'\u001b[0m\u001b[0;34m)\u001b[0m\u001b[0;34m\u001b[0m\u001b[0m\n\u001b[0m\u001b[1;32m     32\u001b[0m \u001b[0;34m\u001b[0m\u001b[0m\n\u001b[1;32m     33\u001b[0m \u001b[0;34m\u001b[0m\u001b[0m\n",
      "\u001b[0;32m~/projects/notebook/faster-python-programs/source/optimizing/datastructure/searching.py\u001b[0m in \u001b[0;36mcompare\u001b[0;34m(end, func, header, col1, col2)\u001b[0m\n\u001b[1;32m     49\u001b[0m     \u001b[0;32mfor\u001b[0m \u001b[0mn\u001b[0m \u001b[0;32min\u001b[0m \u001b[0mrange\u001b[0m\u001b[0;34m(\u001b[0m\u001b[0;36m1\u001b[0m\u001b[0;34m,\u001b[0m \u001b[0mend\u001b[0m\u001b[0;34m)\u001b[0m\u001b[0;34m:\u001b[0m\u001b[0;34m\u001b[0m\u001b[0m\n\u001b[1;32m     50\u001b[0m         \u001b[0mcount\u001b[0m \u001b[0;34m=\u001b[0m \u001b[0;36m10\u001b[0m \u001b[0;34m**\u001b[0m \u001b[0mn\u001b[0m\u001b[0;34m\u001b[0m\u001b[0m\n\u001b[0;32m---> 51\u001b[0;31m         \u001b[0mlist_time\u001b[0m\u001b[0;34m,\u001b[0m \u001b[0mset_time\u001b[0m\u001b[0;34m,\u001b[0m \u001b[0mratio\u001b[0m \u001b[0;34m=\u001b[0m \u001b[0mfunc\u001b[0m\u001b[0;34m(\u001b[0m\u001b[0mcount\u001b[0m\u001b[0;34m)\u001b[0m\u001b[0;34m\u001b[0m\u001b[0m\n\u001b[0m\u001b[1;32m     52\u001b[0m \u001b[0;34m\u001b[0m\u001b[0m\n\u001b[1;32m     53\u001b[0m         print(fmt.format(count=count, ratio=ratio, list_time=list_time,\n",
      "\u001b[0;32m~/projects/notebook/faster-python-programs/source/optimizing/datastructure/searching_magic.py\u001b[0m in \u001b[0;36mcalculate_ratio\u001b[0;34m(n, search_list, search_set)\u001b[0m\n\u001b[1;32m     38\u001b[0m     \"\"\"\n\u001b[1;32m     39\u001b[0m     \u001b[0mlist_time\u001b[0m \u001b[0;34m=\u001b[0m \u001b[0msearch_list\u001b[0m\u001b[0;34m(\u001b[0m\u001b[0mn\u001b[0m\u001b[0;34m)\u001b[0m\u001b[0;34m.\u001b[0m\u001b[0maverage\u001b[0m\u001b[0;34m\u001b[0m\u001b[0m\n\u001b[0;32m---> 40\u001b[0;31m     \u001b[0mset_time\u001b[0m \u001b[0;34m=\u001b[0m \u001b[0msearch_set\u001b[0m\u001b[0;34m(\u001b[0m\u001b[0mn\u001b[0m\u001b[0;34m)\u001b[0m\u001b[0;34m.\u001b[0m\u001b[0maverage\u001b[0m\u001b[0;34m\u001b[0m\u001b[0m\n\u001b[0m\u001b[1;32m     41\u001b[0m     \u001b[0;32mreturn\u001b[0m \u001b[0mlist_time\u001b[0m\u001b[0;34m,\u001b[0m \u001b[0mset_time\u001b[0m\u001b[0;34m,\u001b[0m \u001b[0mlist_time\u001b[0m \u001b[0;34m/\u001b[0m \u001b[0mset_time\u001b[0m\u001b[0;34m\u001b[0m\u001b[0m\n\u001b[1;32m     42\u001b[0m \u001b[0;34m\u001b[0m\u001b[0m\n",
      "\u001b[0;32m<ipython-input-31-0ebe5aa116ae>\u001b[0m in \u001b[0;36msearch_set\u001b[0;34m(n)\u001b[0m\n\u001b[1;32m     22\u001b[0m     \u001b[0mn\u001b[0m \u001b[0;32min\u001b[0m \u001b[0mmy_set\u001b[0m\u001b[0;34m\u001b[0m\u001b[0m\n\u001b[1;32m     23\u001b[0m     \"\"\")\n\u001b[0;32m---> 24\u001b[0;31m     \u001b[0;32mreturn\u001b[0m \u001b[0mtimeit_magic\u001b[0m\u001b[0;34m(\u001b[0m\u001b[0mn\u001b[0m\u001b[0;34m,\u001b[0m \u001b[0msetup\u001b[0m\u001b[0;34m,\u001b[0m \u001b[0mstatement\u001b[0m\u001b[0;34m)\u001b[0m\u001b[0;34m\u001b[0m\u001b[0m\n\u001b[0m\u001b[1;32m     25\u001b[0m \u001b[0;34m\u001b[0m\u001b[0m\n\u001b[1;32m     26\u001b[0m \u001b[0;34m\u001b[0m\u001b[0m\n",
      "\u001b[0;32m~/projects/notebook/faster-python-programs/source/optimizing/datastructure/searching_magic.py\u001b[0m in \u001b[0;36mtimeit_magic\u001b[0;34m(n, setup, statement)\u001b[0m\n\u001b[1;32m     14\u001b[0m     \"\"\"\n\u001b[1;32m     15\u001b[0m     return TerminalInteractiveShell().run_cell_magic(\n\u001b[0;32m---> 16\u001b[0;31m         'timeit', '-o -q n = {n}; '.format(n=n) + setup, statement)\n\u001b[0m\u001b[1;32m     17\u001b[0m \u001b[0;34m\u001b[0m\u001b[0m\n\u001b[1;32m     18\u001b[0m \u001b[0;34m\u001b[0m\u001b[0m\n",
      "\u001b[0;32m~/anaconda3/envs/pycon2018/lib/python3.6/site-packages/IPython/core/interactiveshell.py\u001b[0m in \u001b[0;36mrun_cell_magic\u001b[0;34m(self, magic_name, line, cell)\u001b[0m\n\u001b[1;32m   2165\u001b[0m             \u001b[0mmagic_arg_s\u001b[0m \u001b[0;34m=\u001b[0m \u001b[0mself\u001b[0m\u001b[0;34m.\u001b[0m\u001b[0mvar_expand\u001b[0m\u001b[0;34m(\u001b[0m\u001b[0mline\u001b[0m\u001b[0;34m,\u001b[0m \u001b[0mstack_depth\u001b[0m\u001b[0;34m)\u001b[0m\u001b[0;34m\u001b[0m\u001b[0m\n\u001b[1;32m   2166\u001b[0m             \u001b[0;32mwith\u001b[0m \u001b[0mself\u001b[0m\u001b[0;34m.\u001b[0m\u001b[0mbuiltin_trap\u001b[0m\u001b[0;34m:\u001b[0m\u001b[0;34m\u001b[0m\u001b[0m\n\u001b[0;32m-> 2167\u001b[0;31m                 \u001b[0mresult\u001b[0m \u001b[0;34m=\u001b[0m \u001b[0mfn\u001b[0m\u001b[0;34m(\u001b[0m\u001b[0mmagic_arg_s\u001b[0m\u001b[0;34m,\u001b[0m \u001b[0mcell\u001b[0m\u001b[0;34m)\u001b[0m\u001b[0;34m\u001b[0m\u001b[0m\n\u001b[0m\u001b[1;32m   2168\u001b[0m             \u001b[0;32mreturn\u001b[0m \u001b[0mresult\u001b[0m\u001b[0;34m\u001b[0m\u001b[0m\n\u001b[1;32m   2169\u001b[0m \u001b[0;34m\u001b[0m\u001b[0m\n",
      "\u001b[0;32m<decorator-gen-61>\u001b[0m in \u001b[0;36mtimeit\u001b[0;34m(self, line, cell, local_ns)\u001b[0m\n",
      "\u001b[0;32m~/anaconda3/envs/pycon2018/lib/python3.6/site-packages/IPython/core/magic.py\u001b[0m in \u001b[0;36m<lambda>\u001b[0;34m(f, *a, **k)\u001b[0m\n\u001b[1;32m    185\u001b[0m     \u001b[0;31m# but it's overkill for just that one bit of state.\u001b[0m\u001b[0;34m\u001b[0m\u001b[0;34m\u001b[0m\u001b[0m\n\u001b[1;32m    186\u001b[0m     \u001b[0;32mdef\u001b[0m \u001b[0mmagic_deco\u001b[0m\u001b[0;34m(\u001b[0m\u001b[0marg\u001b[0m\u001b[0;34m)\u001b[0m\u001b[0;34m:\u001b[0m\u001b[0;34m\u001b[0m\u001b[0m\n\u001b[0;32m--> 187\u001b[0;31m         \u001b[0mcall\u001b[0m \u001b[0;34m=\u001b[0m \u001b[0;32mlambda\u001b[0m \u001b[0mf\u001b[0m\u001b[0;34m,\u001b[0m \u001b[0;34m*\u001b[0m\u001b[0ma\u001b[0m\u001b[0;34m,\u001b[0m \u001b[0;34m**\u001b[0m\u001b[0mk\u001b[0m\u001b[0;34m:\u001b[0m \u001b[0mf\u001b[0m\u001b[0;34m(\u001b[0m\u001b[0;34m*\u001b[0m\u001b[0ma\u001b[0m\u001b[0;34m,\u001b[0m \u001b[0;34m**\u001b[0m\u001b[0mk\u001b[0m\u001b[0;34m)\u001b[0m\u001b[0;34m\u001b[0m\u001b[0m\n\u001b[0m\u001b[1;32m    188\u001b[0m \u001b[0;34m\u001b[0m\u001b[0m\n\u001b[1;32m    189\u001b[0m         \u001b[0;32mif\u001b[0m \u001b[0mcallable\u001b[0m\u001b[0;34m(\u001b[0m\u001b[0marg\u001b[0m\u001b[0;34m)\u001b[0m\u001b[0;34m:\u001b[0m\u001b[0;34m\u001b[0m\u001b[0m\n",
      "\u001b[0;32m~/anaconda3/envs/pycon2018/lib/python3.6/site-packages/IPython/core/magics/execution.py\u001b[0m in \u001b[0;36mtimeit\u001b[0;34m(self, line, cell, local_ns)\u001b[0m\n\u001b[1;32m   1100\u001b[0m                     \u001b[0;32mbreak\u001b[0m\u001b[0;34m\u001b[0m\u001b[0m\n\u001b[1;32m   1101\u001b[0m \u001b[0;34m\u001b[0m\u001b[0m\n\u001b[0;32m-> 1102\u001b[0;31m         \u001b[0mall_runs\u001b[0m \u001b[0;34m=\u001b[0m \u001b[0mtimer\u001b[0m\u001b[0;34m.\u001b[0m\u001b[0mrepeat\u001b[0m\u001b[0;34m(\u001b[0m\u001b[0mrepeat\u001b[0m\u001b[0;34m,\u001b[0m \u001b[0mnumber\u001b[0m\u001b[0;34m)\u001b[0m\u001b[0;34m\u001b[0m\u001b[0m\n\u001b[0m\u001b[1;32m   1103\u001b[0m         \u001b[0mbest\u001b[0m \u001b[0;34m=\u001b[0m \u001b[0mmin\u001b[0m\u001b[0;34m(\u001b[0m\u001b[0mall_runs\u001b[0m\u001b[0;34m)\u001b[0m \u001b[0;34m/\u001b[0m \u001b[0mnumber\u001b[0m\u001b[0;34m\u001b[0m\u001b[0m\n\u001b[1;32m   1104\u001b[0m         \u001b[0mworst\u001b[0m \u001b[0;34m=\u001b[0m \u001b[0mmax\u001b[0m\u001b[0;34m(\u001b[0m\u001b[0mall_runs\u001b[0m\u001b[0;34m)\u001b[0m \u001b[0;34m/\u001b[0m \u001b[0mnumber\u001b[0m\u001b[0;34m\u001b[0m\u001b[0m\n",
      "\u001b[0;32m~/anaconda3/envs/pycon2018/lib/python3.6/timeit.py\u001b[0m in \u001b[0;36mrepeat\u001b[0;34m(self, repeat, number)\u001b[0m\n\u001b[1;32m    204\u001b[0m         \u001b[0mr\u001b[0m \u001b[0;34m=\u001b[0m \u001b[0;34m[\u001b[0m\u001b[0;34m]\u001b[0m\u001b[0;34m\u001b[0m\u001b[0m\n\u001b[1;32m    205\u001b[0m         \u001b[0;32mfor\u001b[0m \u001b[0mi\u001b[0m \u001b[0;32min\u001b[0m \u001b[0mrange\u001b[0m\u001b[0;34m(\u001b[0m\u001b[0mrepeat\u001b[0m\u001b[0;34m)\u001b[0m\u001b[0;34m:\u001b[0m\u001b[0;34m\u001b[0m\u001b[0m\n\u001b[0;32m--> 206\u001b[0;31m             \u001b[0mt\u001b[0m \u001b[0;34m=\u001b[0m \u001b[0mself\u001b[0m\u001b[0;34m.\u001b[0m\u001b[0mtimeit\u001b[0m\u001b[0;34m(\u001b[0m\u001b[0mnumber\u001b[0m\u001b[0;34m)\u001b[0m\u001b[0;34m\u001b[0m\u001b[0m\n\u001b[0m\u001b[1;32m    207\u001b[0m             \u001b[0mr\u001b[0m\u001b[0;34m.\u001b[0m\u001b[0mappend\u001b[0m\u001b[0;34m(\u001b[0m\u001b[0mt\u001b[0m\u001b[0;34m)\u001b[0m\u001b[0;34m\u001b[0m\u001b[0m\n\u001b[1;32m    208\u001b[0m         \u001b[0;32mreturn\u001b[0m \u001b[0mr\u001b[0m\u001b[0;34m\u001b[0m\u001b[0m\n",
      "\u001b[0;32m~/anaconda3/envs/pycon2018/lib/python3.6/site-packages/IPython/core/magics/execution.py\u001b[0m in \u001b[0;36mtimeit\u001b[0;34m(self, number)\u001b[0m\n\u001b[1;32m    158\u001b[0m         \u001b[0mgc\u001b[0m\u001b[0;34m.\u001b[0m\u001b[0mdisable\u001b[0m\u001b[0;34m(\u001b[0m\u001b[0;34m)\u001b[0m\u001b[0;34m\u001b[0m\u001b[0m\n\u001b[1;32m    159\u001b[0m         \u001b[0;32mtry\u001b[0m\u001b[0;34m:\u001b[0m\u001b[0;34m\u001b[0m\u001b[0m\n\u001b[0;32m--> 160\u001b[0;31m             \u001b[0mtiming\u001b[0m \u001b[0;34m=\u001b[0m \u001b[0mself\u001b[0m\u001b[0;34m.\u001b[0m\u001b[0minner\u001b[0m\u001b[0;34m(\u001b[0m\u001b[0mit\u001b[0m\u001b[0;34m,\u001b[0m \u001b[0mself\u001b[0m\u001b[0;34m.\u001b[0m\u001b[0mtimer\u001b[0m\u001b[0;34m)\u001b[0m\u001b[0;34m\u001b[0m\u001b[0m\n\u001b[0m\u001b[1;32m    161\u001b[0m         \u001b[0;32mfinally\u001b[0m\u001b[0;34m:\u001b[0m\u001b[0;34m\u001b[0m\u001b[0m\n\u001b[1;32m    162\u001b[0m             \u001b[0;32mif\u001b[0m \u001b[0mgcold\u001b[0m\u001b[0;34m:\u001b[0m\u001b[0;34m\u001b[0m\u001b[0m\n",
      "\u001b[0;32m<magic-timeit>\u001b[0m in \u001b[0;36minner\u001b[0;34m(_it, _timer)\u001b[0m\n",
      "\u001b[0;31mKeyboardInterrupt\u001b[0m: "
     ]
    }
   ],
   "source": [
    "# %load searching_creation.py\n",
    "# file: searching_creation.py\n",
    "\n",
    "\"\"\"\n",
    "Measuring the time for searching in a list and a set including\n",
    "creation time of the data structure.\n",
    "\"\"\"\n",
    "\n",
    "from functools import partial\n",
    "import textwrap\n",
    "\n",
    "from searching import compare\n",
    "from searching_magic import calculate_ratio, timeit_magic\n",
    "\n",
    "\n",
    "def search_set(n):\n",
    "    \"\"\"Search for an element in a set.\n",
    "    \"\"\"\n",
    "    setup = 'my_list = list(range(n))'\n",
    "    statement = textwrap.dedent(\"\"\"\n",
    "    my_set = set(my_list)\n",
    "    n in my_set\n",
    "    \"\"\")\n",
    "    return timeit_magic(n, setup, statement)\n",
    "\n",
    "\n",
    "def main():\n",
    "    \"\"\"Run some timings.\n",
    "    \"\"\"\n",
    "    func = partial(calculate_ratio, search_set=search_set)\n",
    "    compare(func=func, header='Measure creation')\n",
    "\n",
    "\n",
    "if __name__ == '__main__':\n",
    "    main()\n"
   ]
  },
  {
   "cell_type": "code",
   "execution_count": 32,
   "metadata": {},
   "outputs": [],
   "source": [
    "# ^just run these in local terminal"
   ]
  },
  {
   "cell_type": "code",
   "execution_count": null,
   "metadata": {},
   "outputs": [],
   "source": [
    "# %load searching_repeated.py\n",
    "# file: searching_repeated.py\n",
    "\"\"\"\n",
    "Measuring the time for searching in a list and a set including\n",
    "creation time of the data structure.\n",
    "\"\"\"\n",
    "\n",
    "from functools import partial\n",
    "import textwrap\n",
    "\n",
    "from searching import compare\n",
    "from searching_magic import calculate_ratio, timeit_magic\n",
    "\n",
    "\n",
    "def search_list(n, m):\n",
    "    \"\"\"Search for an element in a set.\n",
    "    \"\"\"\n",
    "    setup = 'my_list = list(range(n));m = {m}'.format(m=m)\n",
    "    statement = textwrap.dedent(\"\"\"\n",
    "    for x in range(m):\n",
    "        n in my_list\n",
    "    \"\"\")\n",
    "    return timeit_magic(n, setup, statement)\n",
    "\n",
    "\n",
    "def search_set(n, m):\n",
    "    \"\"\"Search for an element in a set.\n",
    "    \"\"\"\n",
    "    setup = 'my_list = list(range(n));m = {m}'.format(m=m)\n",
    "    statement = textwrap.dedent(\"\"\"\n",
    "    my_set = set(my_list)\n",
    "    for x in range(m):\n",
    "        n in my_set\n",
    "    \"\"\")\n",
    "    return timeit_magic(n, setup, statement)\n",
    "\n",
    "\n",
    "def main():\n",
    "    \"\"\"Run some timings.\n",
    "    \"\"\"\n",
    "    for m in [10, 100, 1000, 10000]:\n",
    "        func = partial(calculate_ratio,\n",
    "                       search_list=partial(search_list, m=m),\n",
    "                       search_set=partial(search_set, m=m))\n",
    "        compare(func=func, header='Measure for {} repetitions'.format(m))\n",
    "\n",
    "\n",
    "if __name__ == '__main__':\n",
    "    main()\n"
   ]
  },
  {
   "cell_type": "markdown",
   "metadata": {},
   "source": [
    "# List vs. Deque"
   ]
  },
  {
   "cell_type": "code",
   "execution_count": 34,
   "metadata": {},
   "outputs": [],
   "source": [
    "from collections import deque"
   ]
  },
  {
   "cell_type": "code",
   "execution_count": 35,
   "metadata": {},
   "outputs": [],
   "source": [
    "L = list(range(10))"
   ]
  },
  {
   "cell_type": "code",
   "execution_count": 36,
   "metadata": {},
   "outputs": [
    {
     "data": {
      "text/plain": [
       "[0, 1, 2, 3, 4, 5, 6, 7, 8, 9]"
      ]
     },
     "execution_count": 36,
     "metadata": {},
     "output_type": "execute_result"
    }
   ],
   "source": [
    "L"
   ]
  },
  {
   "cell_type": "code",
   "execution_count": 37,
   "metadata": {},
   "outputs": [],
   "source": [
    "L[2:4] = [] # remove 2 elements"
   ]
  },
  {
   "cell_type": "code",
   "execution_count": 38,
   "metadata": {},
   "outputs": [
    {
     "data": {
      "text/plain": [
       "[0, 1, 4, 5, 6, 7, 8, 9]"
      ]
     },
     "execution_count": 38,
     "metadata": {},
     "output_type": "execute_result"
    }
   ],
   "source": [
    "L"
   ]
  },
  {
   "cell_type": "code",
   "execution_count": 52,
   "metadata": {},
   "outputs": [],
   "source": [
    "d = deque(range(10)) # double ended queue"
   ]
  },
  {
   "cell_type": "code",
   "execution_count": 53,
   "metadata": {},
   "outputs": [
    {
     "data": {
      "text/plain": [
       "deque([0, 1, 2, 3, 4, 5, 6, 7, 8, 9])"
      ]
     },
     "execution_count": 53,
     "metadata": {},
     "output_type": "execute_result"
    }
   ],
   "source": [
    "d"
   ]
  },
  {
   "cell_type": "code",
   "execution_count": 41,
   "metadata": {},
   "outputs": [],
   "source": [
    "# deque good to append to both sides, doing something from middle is not efficient\n",
    "# but can rotate"
   ]
  },
  {
   "cell_type": "code",
   "execution_count": 54,
   "metadata": {},
   "outputs": [],
   "source": [
    "d.rotate(-4)"
   ]
  },
  {
   "cell_type": "code",
   "execution_count": 55,
   "metadata": {},
   "outputs": [
    {
     "data": {
      "text/plain": [
       "deque([4, 5, 6, 7, 8, 9, 0, 1, 2, 3])"
      ]
     },
     "execution_count": 55,
     "metadata": {},
     "output_type": "execute_result"
    }
   ],
   "source": [
    "d"
   ]
  },
  {
   "cell_type": "code",
   "execution_count": 56,
   "metadata": {},
   "outputs": [
    {
     "data": {
      "text/plain": [
       "3"
      ]
     },
     "execution_count": 56,
     "metadata": {},
     "output_type": "execute_result"
    }
   ],
   "source": [
    "d.pop()"
   ]
  },
  {
   "cell_type": "code",
   "execution_count": 57,
   "metadata": {},
   "outputs": [
    {
     "data": {
      "text/plain": [
       "2"
      ]
     },
     "execution_count": 57,
     "metadata": {},
     "output_type": "execute_result"
    }
   ],
   "source": [
    "d.pop()"
   ]
  },
  {
   "cell_type": "code",
   "execution_count": 58,
   "metadata": {},
   "outputs": [],
   "source": [
    "d.rotate(2)"
   ]
  },
  {
   "cell_type": "code",
   "execution_count": 59,
   "metadata": {},
   "outputs": [
    {
     "data": {
      "text/plain": [
       "deque([0, 1, 4, 5, 6, 7, 8, 9])"
      ]
     },
     "execution_count": 59,
     "metadata": {},
     "output_type": "execute_result"
    }
   ],
   "source": [
    "d"
   ]
  },
  {
   "cell_type": "code",
   "execution_count": 61,
   "metadata": {},
   "outputs": [
    {
     "name": "stdout",
     "output_type": "stream",
     "text": [
      "Limit: 1e-05\n",
      "  Replaced       List      Deque    Ratio\n",
      "         1   8.69e-04   1.12e-05    77.47\n",
      "        10   7.41e-04   1.10e-05    67.28\n",
      "     1,000   8.70e-04   8.20e-05    10.61\n",
      "    10,000   8.36e-04   5.84e-04     1.43\n",
      "   100,000   1.47e-03   7.16e-03     0.20\n",
      "Limit: 0.0001\n",
      "  Replaced       List      Deque    Ratio\n",
      "         1   7.55e-04   1.04e-05    72.30\n",
      "        10   7.69e-04   1.32e-05    58.30\n",
      "     1,000   7.56e-04   8.05e-05     9.40\n",
      "    10,000   8.62e-04   6.61e-04     1.30\n",
      "   100,000   1.51e-03   7.08e-03     0.21\n",
      "Limit: 0.001\n",
      "  Replaced       List      Deque    Ratio\n",
      "         1   7.87e-04   7.48e-06   105.22\n",
      "        10   7.61e-04   7.95e-06    95.84\n",
      "     1,000   7.88e-04   7.41e-05    10.63\n",
      "    10,000   8.42e-04   6.27e-04     1.34\n",
      "   100,000   1.46e-03   6.91e-03     0.21\n",
      "Limit: 0.01\n",
      "  Replaced       List      Deque    Ratio\n",
      "         1   7.70e-04   7.36e-06   104.62\n"
     ]
    },
    {
     "ename": "KeyboardInterrupt",
     "evalue": "",
     "output_type": "error",
     "traceback": [
      "\u001b[0;31m---------------------------------------------------------------------------\u001b[0m",
      "\u001b[0;31mKeyboardInterrupt\u001b[0m                         Traceback (most recent call last)",
      "\u001b[0;32m<ipython-input-61-d31915e6e720>\u001b[0m in \u001b[0;36m<module>\u001b[0;34m()\u001b[0m\n\u001b[1;32m     71\u001b[0m \u001b[0;34m\u001b[0m\u001b[0m\n\u001b[1;32m     72\u001b[0m \u001b[0;32mif\u001b[0m \u001b[0m__name__\u001b[0m \u001b[0;34m==\u001b[0m \u001b[0;34m'__main__'\u001b[0m\u001b[0;34m:\u001b[0m\u001b[0;34m\u001b[0m\u001b[0m\n\u001b[0;32m---> 73\u001b[0;31m     \u001b[0mmain\u001b[0m\u001b[0;34m(\u001b[0m\u001b[0;34m)\u001b[0m\u001b[0;34m\u001b[0m\u001b[0m\n\u001b[0m",
      "\u001b[0;32m<ipython-input-61-d31915e6e720>\u001b[0m in \u001b[0;36mmain\u001b[0;34m()\u001b[0m\n\u001b[1;32m     61\u001b[0m                     \u001b[0;32mreturn\u001b[0m \u001b[0mobj\u001b[0m\u001b[0;34m(\u001b[0m\u001b[0mrange\u001b[0m\u001b[0;34m(\u001b[0m\u001b[0msize\u001b[0m\u001b[0;34m)\u001b[0m\u001b[0;34m)\u001b[0m\u001b[0;34m,\u001b[0m \u001b[0mstart\u001b[0m\u001b[0;34m,\u001b[0m \u001b[0mend\u001b[0m\u001b[0;34m\u001b[0m\u001b[0m\n\u001b[1;32m     62\u001b[0m \u001b[0;34m\u001b[0m\u001b[0m\n\u001b[0;32m---> 63\u001b[0;31m                 \u001b[0mres\u001b[0m \u001b[0;34m=\u001b[0m \u001b[0mtime_function\u001b[0m\u001b[0;34m(\u001b[0m\u001b[0mfunc\u001b[0m\u001b[0;34m,\u001b[0m \u001b[0mmake_args\u001b[0m\u001b[0;34m,\u001b[0m \u001b[0mlimit\u001b[0m\u001b[0;34m=\u001b[0m\u001b[0mlimit\u001b[0m\u001b[0;34m)\u001b[0m\u001b[0;34m\u001b[0m\u001b[0m\n\u001b[0m\u001b[1;32m     64\u001b[0m                 \u001b[0mresults\u001b[0m\u001b[0;34m[\u001b[0m\u001b[0mobj\u001b[0m\u001b[0;34m.\u001b[0m\u001b[0m__name__\u001b[0m\u001b[0;34m]\u001b[0m \u001b[0;34m=\u001b[0m \u001b[0mres\u001b[0m\u001b[0;34m\u001b[0m\u001b[0m\n\u001b[1;32m     65\u001b[0m             \u001b[0mlist_time\u001b[0m \u001b[0;34m=\u001b[0m \u001b[0mresults\u001b[0m\u001b[0;34m[\u001b[0m\u001b[0;34m'list'\u001b[0m\u001b[0;34m]\u001b[0m\u001b[0;34m\u001b[0m\u001b[0m\n",
      "\u001b[0;32m<ipython-input-61-d31915e6e720>\u001b[0m in \u001b[0;36mtime_function\u001b[0;34m(func, make_args, repeat, limit)\u001b[0m\n\u001b[1;32m     18\u001b[0m         \u001b[0;32mwhile\u001b[0m \u001b[0mduration\u001b[0m \u001b[0;34m<\u001b[0m \u001b[0mlimit\u001b[0m\u001b[0;34m:\u001b[0m\u001b[0;34m\u001b[0m\u001b[0m\n\u001b[1;32m     19\u001b[0m             \u001b[0margs\u001b[0m \u001b[0;34m=\u001b[0m \u001b[0mmake_args\u001b[0m\u001b[0;34m(\u001b[0m\u001b[0;34m)\u001b[0m\u001b[0;34m\u001b[0m\u001b[0m\n\u001b[0;32m---> 20\u001b[0;31m             \u001b[0mstart\u001b[0m \u001b[0;34m=\u001b[0m \u001b[0mtimeit\u001b[0m\u001b[0;34m.\u001b[0m\u001b[0mdefault_timer\u001b[0m\u001b[0;34m(\u001b[0m\u001b[0;34m)\u001b[0m\u001b[0;34m\u001b[0m\u001b[0m\n\u001b[0m\u001b[1;32m     21\u001b[0m             \u001b[0mfunc\u001b[0m\u001b[0;34m(\u001b[0m\u001b[0;34m*\u001b[0m\u001b[0margs\u001b[0m\u001b[0;34m)\u001b[0m\u001b[0;34m\u001b[0m\u001b[0m\n\u001b[1;32m     22\u001b[0m             \u001b[0mduration\u001b[0m \u001b[0;34m+=\u001b[0m \u001b[0mtimeit\u001b[0m\u001b[0;34m.\u001b[0m\u001b[0mdefault_timer\u001b[0m\u001b[0;34m(\u001b[0m\u001b[0;34m)\u001b[0m \u001b[0;34m-\u001b[0m \u001b[0mstart\u001b[0m\u001b[0;34m\u001b[0m\u001b[0m\n",
      "\u001b[0;31mKeyboardInterrupt\u001b[0m: "
     ]
    }
   ],
   "source": [
    "# %load list_deque.py\n",
    "# file: list_deque.py\n",
    "\n",
    "\"\"\"Removing elements from a list vs. from a deque.\n",
    "\"\"\"\n",
    "\n",
    "from collections import deque\n",
    "from statistics import mean\n",
    "import timeit\n",
    "\n",
    "\n",
    "def time_function(func, make_args, repeat=7, limit=1):\n",
    "    \"\"\"Measure the run time of a function.\"\"\"\n",
    "    timing_res = []\n",
    "    for _ in range(repeat):\n",
    "        count = 0\n",
    "        duration = 0\n",
    "        while duration < limit:\n",
    "            args = make_args()\n",
    "            start = timeit.default_timer()\n",
    "            func(*args)\n",
    "            duration += timeit.default_timer() - start\n",
    "            count += 1\n",
    "        timing_res.append(duration / count)\n",
    "    return mean(timing_res)\n",
    "\n",
    "\n",
    "def remove_from_list(my_list, start, end):\n",
    "    \"\"\"Remove elements between `start` and `end` from a list.\n",
    "    \"\"\"\n",
    "    my_list[start:end] = []\n",
    "\n",
    "\n",
    "def remove_from_deque(my_deque, start, end):\n",
    "    \"\"\"Remove elements between `start` and `end` from a deque.\n",
    "    \"\"\"\n",
    "    my_deque.rotate(-end)\n",
    "    for _ in range(end - start):\n",
    "        my_deque.pop()\n",
    "    my_deque.rotate(start)\n",
    "\n",
    "\n",
    "def main():\n",
    "    \"\"\"Run some tests.\n",
    "    \"\"\"\n",
    "    start = 100\n",
    "    size = int(1e6)\n",
    "    fmt = '{diff:10,d} {list_time:10.2e} {deque_time: 10.2e} {ratio:8.2f}'\n",
    "    for limit in [0.00001, 0.0001, 0.001, 0.01, 0.1]:\n",
    "        print('Limit:', limit)\n",
    "        print('{:>10s} {:>10s} {:>10s} {:>8s}'.format(\n",
    "            'Replaced', 'List', 'Deque', 'Ratio'))\n",
    "        for end in [101, 110, 1100, 10100, 100100]:\n",
    "            diff = end - start\n",
    "            results = {}\n",
    "            for obj, func in zip([list, deque], [remove_from_list,\n",
    "                                                 remove_from_deque]):\n",
    "                def make_args(obj=obj, size=size, start=start, end=end):\n",
    "                    \"\"\"Dynamically create function with right arguments.\n",
    "                    \"\"\"\n",
    "                    return obj(range(size)), start, end\n",
    "\n",
    "                res = time_function(func, make_args, limit=limit)\n",
    "                results[obj.__name__] = res\n",
    "            list_time = results['list']\n",
    "            deque_time = results['deque']\n",
    "            ratio = list_time / deque_time\n",
    "            print(fmt.format(diff=diff, list_time=list_time,\n",
    "                             deque_time=deque_time, ratio=ratio))\n",
    "\n",
    "\n",
    "if __name__ == '__main__':\n",
    "    main()\n"
   ]
  },
  {
   "cell_type": "code",
   "execution_count": 62,
   "metadata": {},
   "outputs": [],
   "source": [
    "# depending on num elemets one can be better than another"
   ]
  },
  {
   "cell_type": "markdown",
   "metadata": {},
   "source": [
    "# Dict vs Defaultdict"
   ]
  },
  {
   "cell_type": "code",
   "execution_count": 63,
   "metadata": {},
   "outputs": [],
   "source": [
    "from collections import defaultdict"
   ]
  },
  {
   "cell_type": "code",
   "execution_count": 64,
   "metadata": {},
   "outputs": [],
   "source": [
    "s = 'a string with different characters'"
   ]
  },
  {
   "cell_type": "code",
   "execution_count": 65,
   "metadata": {},
   "outputs": [],
   "source": [
    "d = {'a':100}"
   ]
  },
  {
   "cell_type": "code",
   "execution_count": 66,
   "metadata": {},
   "outputs": [
    {
     "data": {
      "text/plain": [
       "100"
      ]
     },
     "execution_count": 66,
     "metadata": {},
     "output_type": "execute_result"
    }
   ],
   "source": [
    "d['a']"
   ]
  },
  {
   "cell_type": "code",
   "execution_count": 67,
   "metadata": {},
   "outputs": [
    {
     "ename": "KeyError",
     "evalue": "'b'",
     "output_type": "error",
     "traceback": [
      "\u001b[0;31m---------------------------------------------------------------------------\u001b[0m",
      "\u001b[0;31mKeyError\u001b[0m                                  Traceback (most recent call last)",
      "\u001b[0;32m<ipython-input-67-dee353b142fb>\u001b[0m in \u001b[0;36m<module>\u001b[0;34m()\u001b[0m\n\u001b[0;32m----> 1\u001b[0;31m \u001b[0md\u001b[0m\u001b[0;34m[\u001b[0m\u001b[0;34m'b'\u001b[0m\u001b[0;34m]\u001b[0m\u001b[0;34m\u001b[0m\u001b[0m\n\u001b[0m",
      "\u001b[0;31mKeyError\u001b[0m: 'b'"
     ]
    }
   ],
   "source": [
    "d['b']"
   ]
  },
  {
   "cell_type": "code",
   "execution_count": 68,
   "metadata": {},
   "outputs": [
    {
     "data": {
      "text/plain": [
       "100"
      ]
     },
     "execution_count": 68,
     "metadata": {},
     "output_type": "execute_result"
    }
   ],
   "source": [
    "d.setdefault('a')"
   ]
  },
  {
   "cell_type": "code",
   "execution_count": 69,
   "metadata": {},
   "outputs": [
    {
     "data": {
      "text/plain": [
       "66"
      ]
     },
     "execution_count": 69,
     "metadata": {},
     "output_type": "execute_result"
    }
   ],
   "source": [
    "d.setdefault('b', 66)"
   ]
  },
  {
   "cell_type": "code",
   "execution_count": 70,
   "metadata": {},
   "outputs": [
    {
     "data": {
      "text/plain": [
       "{'a': 100, 'b': 66}"
      ]
     },
     "execution_count": 70,
     "metadata": {},
     "output_type": "execute_result"
    }
   ],
   "source": [
    "d"
   ]
  },
  {
   "cell_type": "code",
   "execution_count": 71,
   "metadata": {},
   "outputs": [
    {
     "data": {
      "text/plain": [
       "'a string with different characters'"
      ]
     },
     "execution_count": 71,
     "metadata": {},
     "output_type": "execute_result"
    }
   ],
   "source": [
    "s"
   ]
  },
  {
   "cell_type": "code",
   "execution_count": 83,
   "metadata": {},
   "outputs": [],
   "source": [
    "count = {}\n",
    "for c in s:\n",
    "    count.setdefault(c, 0)\n",
    "    count[c] += 1"
   ]
  },
  {
   "cell_type": "code",
   "execution_count": 75,
   "metadata": {},
   "outputs": [
    {
     "data": {
      "text/plain": [
       "{'a': 3,\n",
       " ' ': 4,\n",
       " 's': 2,\n",
       " 't': 4,\n",
       " 'r': 4,\n",
       " 'i': 3,\n",
       " 'n': 2,\n",
       " 'g': 1,\n",
       " 'w': 1,\n",
       " 'h': 2,\n",
       " 'd': 1,\n",
       " 'f': 2,\n",
       " 'e': 3,\n",
       " 'c': 2}"
      ]
     },
     "execution_count": 75,
     "metadata": {},
     "output_type": "execute_result"
    }
   ],
   "source": [
    "count"
   ]
  },
  {
   "cell_type": "code",
   "execution_count": 76,
   "metadata": {},
   "outputs": [
    {
     "name": "stdout",
     "output_type": "stream",
     "text": [
      "{'a': 3, ' ': 4, 's': 2, 't': 4, 'r': 4, 'i': 3, 'n': 2, 'g': 1, 'w': 1, 'h': 2, 'd': 1, 'f': 2, 'e': 3, 'c': 2}\n"
     ]
    }
   ],
   "source": [
    "print(count)"
   ]
  },
  {
   "cell_type": "code",
   "execution_count": 84,
   "metadata": {},
   "outputs": [],
   "source": [
    "count_def = defaultdict(int)\n",
    "for c in s:\n",
    "    count_def[c] += 1"
   ]
  },
  {
   "cell_type": "code",
   "execution_count": 78,
   "metadata": {},
   "outputs": [
    {
     "data": {
      "text/plain": [
       "0"
      ]
     },
     "execution_count": 78,
     "metadata": {},
     "output_type": "execute_result"
    }
   ],
   "source": [
    "int()"
   ]
  },
  {
   "cell_type": "code",
   "execution_count": 85,
   "metadata": {},
   "outputs": [
    {
     "data": {
      "text/plain": [
       "True"
      ]
     },
     "execution_count": 85,
     "metadata": {},
     "output_type": "execute_result"
    }
   ],
   "source": [
    "count == count_def"
   ]
  },
  {
   "cell_type": "code",
   "execution_count": 87,
   "metadata": {},
   "outputs": [],
   "source": [
    "# %load setdefault_defaultdict.py\n",
    "# file: setdefault_defaultdict.py\n",
    "\n",
    "\"\"\"Defaultdict can faster than a standard dict.\n",
    "\"\"\"\n",
    "\n",
    "from collections import defaultdict\n",
    "\n",
    "\n",
    "def standard_dict(text):\n",
    "    \"\"\"Count with standard dict.\n",
    "    \"\"\"\n",
    "    d = {}\n",
    "    for key in text:\n",
    "        d.setdefault(key, 0)\n",
    "        d[key] += 1\n",
    "    return d\n",
    "\n",
    "\n",
    "def default_dict(text):\n",
    "    \"\"\"Count with defaultdict.\n",
    "    \"\"\"\n",
    "    dd = defaultdict(int)\n",
    "    for key in text:\n",
    "        dd[key] += 1\n",
    "    return dd\n",
    "\n",
    "\n",
    "def standard_dict_group(data):\n",
    "    \"\"\"Group with standard dict.\n",
    "    \"\"\"\n",
    "    d = {}\n",
    "    for key, value in data:\n",
    "        d.setdefault(key, []).append(value)\n",
    "    return d\n",
    "\n",
    "\n",
    "def default_dict_group(data):\n",
    "    \"\"\"Group with defaultdict.\n",
    "    \"\"\"\n",
    "    dd = defaultdict(list)\n",
    "    for key, value in data:\n",
    "        dd[key].append(value)\n",
    "    return dd\n"
   ]
  },
  {
   "cell_type": "code",
   "execution_count": 88,
   "metadata": {},
   "outputs": [
    {
     "name": "stdout",
     "output_type": "stream",
     "text": [
      "5.23 µs ± 87.8 ns per loop (mean ± std. dev. of 7 runs, 100000 loops each)\n"
     ]
    }
   ],
   "source": [
    "%timeit standard_dict(s)"
   ]
  },
  {
   "cell_type": "code",
   "execution_count": 89,
   "metadata": {},
   "outputs": [
    {
     "name": "stdout",
     "output_type": "stream",
     "text": [
      "4.21 µs ± 33.9 ns per loop (mean ± std. dev. of 7 runs, 100000 loops each)\n"
     ]
    }
   ],
   "source": [
    "%timeit default_dict(s)"
   ]
  },
  {
   "cell_type": "code",
   "execution_count": 90,
   "metadata": {},
   "outputs": [],
   "source": [
    "big_s = s * 1000"
   ]
  },
  {
   "cell_type": "code",
   "execution_count": 91,
   "metadata": {},
   "outputs": [
    {
     "name": "stdout",
     "output_type": "stream",
     "text": [
      "5.38 ms ± 222 µs per loop (mean ± std. dev. of 7 runs, 100 loops each)\n"
     ]
    }
   ],
   "source": [
    "%timeit standard_dict(big_s)"
   ]
  },
  {
   "cell_type": "code",
   "execution_count": 92,
   "metadata": {},
   "outputs": [
    {
     "name": "stdout",
     "output_type": "stream",
     "text": [
      "2.13 ms ± 90.4 µs per loop (mean ± std. dev. of 7 runs, 100 loops each)\n"
     ]
    }
   ],
   "source": [
    "%timeit default_dict(big_s)"
   ]
  },
  {
   "cell_type": "code",
   "execution_count": 93,
   "metadata": {},
   "outputs": [
    {
     "name": "stdout",
     "output_type": "stream",
     "text": [
      "insert_zero_append_reverse.py  \u001b[0m\u001b[01;34m__pycache__\u001b[0m/           searching.py\r\n",
      "intersect_magic.py             searching_creation.py  searching_repeated.py\r\n",
      "intersect.py                   searching_magic.py     setdefault_defaultdict.py\r\n",
      "list_deque.py                  searching_multiple.py\r\n"
     ]
    }
   ],
   "source": [
    "ls"
   ]
  },
  {
   "cell_type": "code",
   "execution_count": 95,
   "metadata": {},
   "outputs": [
    {
     "name": "stdout",
     "output_type": "stream",
     "text": [
      "      Size   insert   append   Ratio\n",
      "        10 1.34e-06 9.06e-07    1.48\n",
      "       100 1.30e-05 5.96e-06    2.19\n",
      "     1,000 2.68e-04 5.30e-05    5.05\n",
      "    10,000 1.78e-02 5.20e-04   34.16\n",
      "   100,000 1.94e+00 5.48e-03  354.38\n"
     ]
    },
    {
     "ename": "KeyboardInterrupt",
     "evalue": "",
     "output_type": "error",
     "traceback": [
      "\u001b[0;31m---------------------------------------------------------------------------\u001b[0m",
      "\u001b[0;31mKeyboardInterrupt\u001b[0m                         Traceback (most recent call last)",
      "\u001b[0;32m<ipython-input-95-97f3d0b6603d>\u001b[0m in \u001b[0;36m<module>\u001b[0;34m()\u001b[0m\n\u001b[1;32m     56\u001b[0m \u001b[0;34m\u001b[0m\u001b[0m\n\u001b[1;32m     57\u001b[0m \u001b[0;32mif\u001b[0m \u001b[0m__name__\u001b[0m \u001b[0;34m==\u001b[0m \u001b[0;34m'__main__'\u001b[0m\u001b[0;34m:\u001b[0m\u001b[0;34m\u001b[0m\u001b[0m\n\u001b[0;32m---> 58\u001b[0;31m     \u001b[0mmain\u001b[0m\u001b[0;34m(\u001b[0m\u001b[0;34m)\u001b[0m\u001b[0;34m\u001b[0m\u001b[0m\n\u001b[0m",
      "\u001b[0;32m<ipython-input-95-97f3d0b6603d>\u001b[0m in \u001b[0;36mmain\u001b[0;34m()\u001b[0m\n\u001b[1;32m     49\u001b[0m     \u001b[0;32mfor\u001b[0m \u001b[0mexp\u001b[0m \u001b[0;32min\u001b[0m \u001b[0mrange\u001b[0m\u001b[0;34m(\u001b[0m\u001b[0;36m1\u001b[0m\u001b[0;34m,\u001b[0m \u001b[0;36m7\u001b[0m\u001b[0;34m)\u001b[0m\u001b[0;34m:\u001b[0m\u001b[0;34m\u001b[0m\u001b[0m\n\u001b[1;32m     50\u001b[0m         \u001b[0miterable\u001b[0m \u001b[0;34m=\u001b[0m \u001b[0mlist\u001b[0m\u001b[0;34m(\u001b[0m\u001b[0mrange\u001b[0m\u001b[0;34m(\u001b[0m\u001b[0;36m10\u001b[0m \u001b[0;34m**\u001b[0m \u001b[0mexp\u001b[0m\u001b[0;34m)\u001b[0m\u001b[0;34m)\u001b[0m\u001b[0;34m\u001b[0m\u001b[0m\n\u001b[0;32m---> 51\u001b[0;31m         \u001b[0mtime_on\u001b[0m \u001b[0;34m=\u001b[0m \u001b[0mcall_multiple\u001b[0m\u001b[0;34m(\u001b[0m\u001b[0muse_on\u001b[0m\u001b[0;34m,\u001b[0m \u001b[0miterable\u001b[0m\u001b[0;34m)\u001b[0m\u001b[0;34m\u001b[0m\u001b[0m\n\u001b[0m\u001b[1;32m     52\u001b[0m         \u001b[0mtime_o1\u001b[0m \u001b[0;34m=\u001b[0m \u001b[0mcall_multiple\u001b[0m\u001b[0;34m(\u001b[0m\u001b[0muse_o1\u001b[0m\u001b[0;34m,\u001b[0m \u001b[0miterable\u001b[0m\u001b[0;34m)\u001b[0m\u001b[0;34m\u001b[0m\u001b[0m\n\u001b[1;32m     53\u001b[0m         print(fmt.format(size=len(iterable), time_on=time_on, time_o1=time_o1,\n",
      "\u001b[0;32m<ipython-input-95-97f3d0b6603d>\u001b[0m in \u001b[0;36mcall_multiple\u001b[0;34m(func, repeat, *args)\u001b[0m\n\u001b[1;32m     35\u001b[0m         \u001b[0;32mwhile\u001b[0m \u001b[0mduration\u001b[0m \u001b[0;34m<\u001b[0m \u001b[0;36m1\u001b[0m\u001b[0;34m:\u001b[0m\u001b[0;34m\u001b[0m\u001b[0m\n\u001b[1;32m     36\u001b[0m             \u001b[0mstart\u001b[0m \u001b[0;34m=\u001b[0m \u001b[0mtimeit\u001b[0m\u001b[0;34m.\u001b[0m\u001b[0mdefault_timer\u001b[0m\u001b[0;34m(\u001b[0m\u001b[0;34m)\u001b[0m\u001b[0;34m\u001b[0m\u001b[0m\n\u001b[0;32m---> 37\u001b[0;31m             \u001b[0mfunc\u001b[0m\u001b[0;34m(\u001b[0m\u001b[0;34m*\u001b[0m\u001b[0margs\u001b[0m\u001b[0;34m)\u001b[0m  \u001b[0;31m# pylint: disable=pointless-statement\u001b[0m\u001b[0;34m\u001b[0m\u001b[0m\n\u001b[0m\u001b[1;32m     38\u001b[0m             \u001b[0mduration\u001b[0m \u001b[0;34m+=\u001b[0m \u001b[0mtimeit\u001b[0m\u001b[0;34m.\u001b[0m\u001b[0mdefault_timer\u001b[0m\u001b[0;34m(\u001b[0m\u001b[0;34m)\u001b[0m \u001b[0;34m-\u001b[0m \u001b[0mstart\u001b[0m\u001b[0;34m\u001b[0m\u001b[0m\n\u001b[1;32m     39\u001b[0m             \u001b[0mcount\u001b[0m \u001b[0;34m+=\u001b[0m \u001b[0;36m1\u001b[0m\u001b[0;34m\u001b[0m\u001b[0m\n",
      "\u001b[0;32m<ipython-input-95-97f3d0b6603d>\u001b[0m in \u001b[0;36muse_on\u001b[0;34m(iterable)\u001b[0m\n\u001b[1;32m     11\u001b[0m     \u001b[0mresult\u001b[0m \u001b[0;34m=\u001b[0m \u001b[0;34m[\u001b[0m\u001b[0;34m]\u001b[0m\u001b[0;34m\u001b[0m\u001b[0m\n\u001b[1;32m     12\u001b[0m     \u001b[0;32mfor\u001b[0m \u001b[0mitem\u001b[0m \u001b[0;32min\u001b[0m \u001b[0miterable\u001b[0m\u001b[0;34m:\u001b[0m\u001b[0;34m\u001b[0m\u001b[0m\n\u001b[0;32m---> 13\u001b[0;31m         \u001b[0mresult\u001b[0m\u001b[0;34m.\u001b[0m\u001b[0minsert\u001b[0m\u001b[0;34m(\u001b[0m\u001b[0;36m0\u001b[0m\u001b[0;34m,\u001b[0m \u001b[0mitem\u001b[0m\u001b[0;34m)\u001b[0m\u001b[0;34m\u001b[0m\u001b[0m\n\u001b[0m\u001b[1;32m     14\u001b[0m     \u001b[0;32mreturn\u001b[0m \u001b[0mresult\u001b[0m\u001b[0;34m\u001b[0m\u001b[0m\n\u001b[1;32m     15\u001b[0m \u001b[0;34m\u001b[0m\u001b[0m\n",
      "\u001b[0;31mKeyboardInterrupt\u001b[0m: "
     ]
    }
   ],
   "source": [
    "# %load insert_zero_append_reverse.py\n",
    "from functools import partial\n",
    "from statistics import mean\n",
    "import timeit\n",
    "\n",
    "from searching import compare\n",
    "from searching_magic import calculate_ratio, timeit_magic\n",
    "\n",
    "\n",
    "def use_on(iterable):\n",
    "    result = []\n",
    "    for item in iterable:\n",
    "        result.insert(0, item)\n",
    "    return result\n",
    "\n",
    "\n",
    "def use_o1(iterable):\n",
    "    result = []\n",
    "    for item in iterable:\n",
    "        result.append(item)\n",
    "    result.reverse()\n",
    "    return result\n",
    "\n",
    "def use_reversed(iterable):\n",
    "    return list(reversed(iterable))\n",
    "\n",
    "\n",
    "def call_multiple(func, *args, repeat=7):\n",
    "    \"\"\"Search `repeat` times for at least 1 second.\n",
    "    \"\"\"\n",
    "    res = []\n",
    "    for _ in range(repeat):\n",
    "        count = 0\n",
    "        duration = 0\n",
    "        while duration < 1:\n",
    "            start = timeit.default_timer()\n",
    "            func(*args)  # pylint: disable=pointless-statement\n",
    "            duration += timeit.default_timer() - start\n",
    "            count += 1\n",
    "        res.append(duration / count)\n",
    "    return mean(res)\n",
    "\n",
    "\n",
    "def main():\n",
    "    \"\"\"Run some timings.\n",
    "    \"\"\"\n",
    "    print('{:>10s} {:>8s} {:>8s} {:>7s}'.format('Size', 'insert', 'append', 'Ratio'))\n",
    "    fmt = '{size:10,d} {time_on:8.2e} {time_o1:8.2e} {ratio:7.2f}'\n",
    "    for exp in range(1, 7):\n",
    "        iterable = list(range(10 ** exp))\n",
    "        time_on = call_multiple(use_on, iterable)\n",
    "        time_o1 = call_multiple(use_o1, iterable)\n",
    "        print(fmt.format(size=len(iterable), time_on=time_on, time_o1=time_o1,\n",
    "                         ratio=time_on/time_o1))\n",
    "\n",
    "\n",
    "if __name__ == '__main__':\n",
    "    main()\n"
   ]
  },
  {
   "cell_type": "code",
   "execution_count": null,
   "metadata": {},
   "outputs": [],
   "source": [
    "#"
   ]
  }
 ],
 "metadata": {
  "kernelspec": {
   "display_name": "Python 3",
   "language": "python",
   "name": "python3"
  },
  "language_info": {
   "codemirror_mode": {
    "name": "ipython",
    "version": 3
   },
   "file_extension": ".py",
   "mimetype": "text/x-python",
   "name": "python",
   "nbconvert_exporter": "python",
   "pygments_lexer": "ipython3",
   "version": "3.6.5"
  }
 },
 "nbformat": 4,
 "nbformat_minor": 2
}
