{
 "cells": [
  {
   "cell_type": "markdown",
   "metadata": {},
   "source": [
    "# Demo Notebook"
   ]
  },
  {
   "cell_type": "code",
   "execution_count": 1,
   "metadata": {},
   "outputs": [
    {
     "name": "stdout",
     "output_type": "stream",
     "text": [
      "hello\n"
     ]
    }
   ],
   "source": [
    "print('hello')"
   ]
  },
  {
   "cell_type": "code",
   "execution_count": 2,
   "metadata": {},
   "outputs": [
    {
     "name": "stdout",
     "output_type": "stream",
     "text": [
      "algorithms_data_structures.ipynb  faster-python-programs.ipynb  \u001b[0m\u001b[01;34msource\u001b[0m/\r\n",
      "caching.ipynb                     faster_python _programs.pdf\r\n",
      "demo.ipynb                        README.md\r\n"
     ]
    }
   ],
   "source": [
    "ls"
   ]
  },
  {
   "cell_type": "code",
   "execution_count": 4,
   "metadata": {},
   "outputs": [
    {
     "name": "stdout",
     "output_type": "stream",
     "text": [
      "/home/jake/projects/notebook/faster-python-programs/source/optimizing/measuring\n"
     ]
    }
   ],
   "source": [
    "cd source/optimizing/measuring/"
   ]
  },
  {
   "cell_type": "code",
   "execution_count": 5,
   "metadata": {},
   "outputs": [
    {
     "name": "stdout",
     "output_type": "stream",
     "text": [
      "accumulate.py             memory_size_hpy.py\r\n",
      "accumulate.py.lprof       memory_size_pympler.py\r\n",
      "calc.py                   profile_me.py\r\n",
      "calc.py.lprof             profile_me.py.prof\r\n",
      "clock_check.py            profile_me_use_line_profiler.py\r\n",
      "cpu_time.py               profile_me_use_line_profiler.py.lprof\r\n",
      "create_list.py            profile_speed.py\r\n",
      "fast.stats                pympler_list_growth.py\r\n",
      "insert_zero.stats         pystone2_3.py\r\n",
      "list_alloc_steps.py       pystone2.py\r\n",
      "local_ref.py              pystone3.py\r\n",
      "make_list_gen.py          pystone_converter.py\r\n",
      "memory_growth_hpy.py      use_mem.py\r\n",
      "memory_growth_pympler.py\r\n"
     ]
    }
   ],
   "source": [
    "ls"
   ]
  },
  {
   "cell_type": "code",
   "execution_count": 19,
   "metadata": {},
   "outputs": [],
   "source": [
    "# %load create_list.py\n",
    "# file: create_list.py\n",
    "\n",
    "import sys\n",
    "\n",
    "if sys.version_info.major < 3:\n",
    "    range = xrange\n",
    "\n",
    "\n",
    "def insert_zero(n=int(1e4)):\n",
    "    \"\"\"Assemble list with `insert`. Inefficient.\n",
    "    \"\"\"\n",
    "    L = []\n",
    "    for x in range(n):\n",
    "        L.insert(0, x)\n",
    "    return L\n",
    "\n",
    "\n",
    "def append_reverse(n=int(1e4)):\n",
    "    \"\"\"Assemble list with `append` and `reverse`.\n",
    "    \"\"\"\n",
    "    L = []\n",
    "    for x in range(n):\n",
    "        L.append(x)\n",
    "    L.reverse()\n",
    "    return L\n"
   ]
  },
  {
   "cell_type": "code",
   "execution_count": 15,
   "metadata": {},
   "outputs": [
    {
     "name": "stdout",
     "output_type": "stream",
     "text": [
      "16.6 ms ± 201 µs per loop (mean ± std. dev. of 7 runs, 100 loops each)\n"
     ]
    }
   ],
   "source": [
    "result_inverse = %timeit -o insert_zero()"
   ]
  },
  {
   "cell_type": "code",
   "execution_count": 14,
   "metadata": {},
   "outputs": [
    {
     "name": "stdout",
     "output_type": "stream",
     "text": [
      "614 µs ± 8.23 µs per loop (mean ± std. dev. of 7 runs, 1000 loops each)\n"
     ]
    }
   ],
   "source": [
    "result_append = %timeit -o append_reverse()"
   ]
  },
  {
   "cell_type": "code",
   "execution_count": 18,
   "metadata": {},
   "outputs": [
    {
     "data": {
      "text/plain": [
       "27.063768319074043"
      ]
     },
     "execution_count": 18,
     "metadata": {},
     "output_type": "execute_result"
    }
   ],
   "source": [
    "result_inverse.average / result_append.average"
   ]
  },
  {
   "cell_type": "code",
   "execution_count": null,
   "metadata": {},
   "outputs": [],
   "source": []
  }
 ],
 "metadata": {
  "kernelspec": {
   "display_name": "Python 3",
   "language": "python",
   "name": "python3"
  },
  "language_info": {
   "codemirror_mode": {
    "name": "ipython",
    "version": 3
   },
   "file_extension": ".py",
   "mimetype": "text/x-python",
   "name": "python",
   "nbconvert_exporter": "python",
   "pygments_lexer": "ipython3",
   "version": "3.6.5"
  }
 },
 "nbformat": 4,
 "nbformat_minor": 2
}
